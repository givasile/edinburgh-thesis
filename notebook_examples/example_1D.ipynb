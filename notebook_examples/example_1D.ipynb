{
 "cells": [
  {
   "cell_type": "markdown",
   "metadata": {},
   "source": [
    "This presentation is meant to illustrate the functionalities provided by the ROMC inference method, at the ELFI package.\n"
   ]
  },
  {
   "cell_type": "code",
   "execution_count": null,
   "metadata": {},
   "outputs": [],
   "source": [
    "import timeit\n",
    "import matplotlib.pyplot as plt\n",
    "import numpy as np\n",
    "import scipy.integrate as integrate\n",
    "import scipy.stats as ss\n",
    "import elfi\n",
    "\n",
    "np.random.seed(21)"
   ]
  },
  {
   "cell_type": "code",
   "execution_count": null,
   "metadata": {},
   "outputs": [],
   "source": [
    "class Prior:\n",
    "    def rvs(self, size=None, random_state=None):\n",
    "        # size from (BS,) -> (BS,1)\n",
    "        if size is not None:\n",
    "            size = np.concatenate((size, [1]))\n",
    "        return ss.uniform(loc=-2.5, scale=5).rvs(size=size, random_state=random_state)\n",
    "\n",
    "    def pdf(self, theta):\n",
    "        return ss.uniform(loc=-2.5, scale=5).pdf(theta)\n",
    "\n",
    "    def logpdf(self, theta):\n",
    "        return ss.uniform(loc=-2.5, scale=5).logpdf(theta)"
   ]
  },
  {
   "cell_type": "code",
   "execution_count": 3,
   "metadata": {},
   "outputs": [],
   "source": [
    "class Likelihood:\n",
    "    r\"\"\"Implements the distribution\n",
    "    P(x|theta) = N(x; theta^4, 1)         if theta in [-0.5, 0.5]\n",
    "                 N(x; theta + 0.5 + 0.5^4 if theta > 0.5\n",
    "                 N(x; theta - 0.5 + 0.5^4 if theta < 0.5\n",
    "    \"\"\"\n",
    "\n",
    "    def rvs(self, theta, seed=None):\n",
    "        \"\"\"Vectorized sampling from likelihood.\n",
    "\n",
    "        \"\"\"\n",
    "        assert isinstance(theta, np.ndarray)\n",
    "        theta = theta.astype(np.float)\n",
    "        samples = np.empty_like(theta)\n",
    "\n",
    "        c = 0.5 - 0.5 ** 4\n",
    "\n",
    "        tmp_theta = theta[theta <= -0.5]\n",
    "        samples[theta <= -0.5] = ss.norm(loc=-tmp_theta - c, scale=1).rvs(random_state=seed)\n",
    "        theta[theta <= -0.5] = np.inf\n",
    "\n",
    "        tmp_theta = theta[theta <= 0.5]\n",
    "        samples[theta <= 0.5] = ss.norm(loc=tmp_theta**4, scale=1).rvs(random_state=seed)\n",
    "        theta[theta <= 0.5] = np.inf\n",
    "\n",
    "        tmp_theta = theta[theta < np.inf]\n",
    "        samples[theta < np.inf] = ss.norm(loc=tmp_theta - c, scale=1).rvs(random_state=seed)\n",
    "        theta[theta < np.inf] = np.inf\n",
    "\n",
    "        assert np.allclose(theta, np.inf)\n",
    "        return samples\n",
    "\n",
    "    def pdf(self, x, theta):\n",
    "        \"\"\"Vectorised pdf evaluation.\n",
    "        \"\"\"\n",
    "        assert isinstance(x, np.ndarray)\n",
    "        assert isinstance(theta, np.ndarray)\n",
    "        assert theta.ndim == 1\n",
    "        assert x.ndim == 1\n",
    "\n",
    "        BS = theta.shape[0]\n",
    "        N = x.shape[0]\n",
    "        theta = theta.astype(np.float)\n",
    "\n",
    "        pdf_eval = np.zeros((BS))\n",
    "        c = 0.5 - 0.5 ** 4\n",
    "\n",
    "        def help_func(lim, mode):\n",
    "            tmp_theta = theta[theta <= lim]\n",
    "            tmp_theta = np.expand_dims(tmp_theta, -1)\n",
    "            scale = np.ones_like(tmp_theta)\n",
    "            if mode == 1:\n",
    "                pdf_eval[theta <= lim] = np.prod(ss.norm(loc=-tmp_theta - c, scale=scale).pdf(x), 1)\n",
    "            elif mode == 2:\n",
    "                pdf_eval[theta <= lim] = np.prod(ss.norm(loc=tmp_theta**4, scale=scale).pdf(x), 1)\n",
    "            elif mode == 3:\n",
    "                pdf_eval[theta <= lim] = np.prod(ss.norm(loc=tmp_theta - c, scale=scale).pdf(x), 1)\n",
    "            theta[theta <= lim] = np.inf\n",
    "\n",
    "        big_M = 10**7\n",
    "        help_func(lim=-0.5, mode=1)\n",
    "        help_func(lim=0.5, mode=2)\n",
    "        help_func(lim=big_M, mode=3)\n",
    "        assert np.allclose(theta, np.inf)\n",
    "        return pdf_eval"
   ]
  },
  {
   "cell_type": "code",
   "execution_count": 4,
   "metadata": {},
   "outputs": [],
   "source": [
    "def summary(x):\n",
    "    assert isinstance(x, np.ndarray)\n",
    "    if x.ndim == 1:\n",
    "        return x\n",
    "    elif x.ndim == 2:\n",
    "        return np.prod(x, 1)\n",
    "\n",
    "\n",
    "def create_factor(x):\n",
    "    \"\"\"Creates the function g(theta) = L(theta)*prior(theta).\n",
    "\n",
    "    \"\"\"\n",
    "    lik = Likelihood()\n",
    "    pr = Prior()\n",
    "    def tmp_func(theta):\n",
    "        return float(lik.pdf(x, np.array([theta])) * pr.pdf(theta))\n",
    "    return tmp_func\n",
    "\n",
    "\n",
    "def approximate_Z(func, a, b):\n",
    "    \"\"\"Approximates the partition function with exhaustive integration.\n",
    "    \"\"\"\n",
    "    return integrate.quad(func, a, b)[0]\n",
    "\n",
    "\n",
    "def create_gt_posterior(likelihood, prior, data, Z):\n",
    "    \"\"\"Returns a function that computes the gt posterior\n",
    "    \"\"\"\n",
    "    def tmp_func(theta):\n",
    "        return likelihood.pdf(data, np.array([theta])) * prior.pdf(np.array([theta])) / Z\n",
    "    return tmp_func"
   ]
  },
  {
   "cell_type": "code",
   "execution_count": 33,
   "metadata": {},
   "outputs": [],
   "source": [
    "data = np.array([-2])\n",
    "dim = data.shape[0]\n",
    "a = -2.5  # integration left limit\n",
    "b = 2.5   # integration right limit\n",
    "\n",
    "likelihood = Likelihood()\n",
    "prior = Prior()\n",
    "\n",
    "factor = create_factor(x=data)\n",
    "Z = approximate_Z(factor, a, b)\n",
    "gt_posterior_pdf = create_gt_posterior(likelihood, prior, data, Z)"
   ]
  },
  {
   "cell_type": "code",
   "execution_count": 34,
   "metadata": {},
   "outputs": [
    {
     "data": {
      "image/png": "[encoded data removed]",
      "text/plain": [
       "<Figure size 432x288 with 1 Axes>"
      ]
     },
     "metadata": {
      "needs_background": "light"
     },
     "output_type": "display_data"
    }
   ],
   "source": [
    "plt.figure()\n",
    "plt.title(\"Ground Truth posterior\")\n",
    "plt.xlim(-3, 3)\n",
    "plt.xlabel(\"theta\")\n",
    "plt.ylabel(\"PDF\")\n",
    "plt.ylim(0, 1)\n",
    "\n",
    "# plot prior\n",
    "theta = np.linspace(-3, 3, 60)\n",
    "y = prior.pdf(theta)\n",
    "plt.plot(theta, y, 'b-.', label='Prior')\n",
    "\n",
    "# plot likelihood\n",
    "y = likelihood.pdf(x=data, theta=theta)\n",
    "plt.plot(theta, y, 'r-.', label='Likelihood')\n",
    "\n",
    "# plot posterior\n",
    "y = np.squeeze(np.array([gt_posterior_pdf(th) for th in theta]))\n",
    "plt.plot(theta, y, 'g-.', label=\"True Posterior\")\n",
    "\n",
    "plt.legend()\n",
    "plt.show(block=False)"
   ]
  },
  {
   "cell_type": "code",
   "execution_count": 35,
   "metadata": {},
   "outputs": [],
   "source": [
    "def simulator(theta, dim, batch_size=10000, random_state=None):\n",
    "    likelihood = Likelihood()\n",
    "    theta = np.repeat(theta, dim, -1)\n",
    "    return likelihood.rvs(theta, seed=random_state)\n",
    "\n",
    "\n",
    "elfi.new_model(\"1D_example\")\n",
    "elfi_prior = elfi.Prior(Prior(), name=\"theta\")\n",
    "elfi_simulator = elfi.Simulator(simulator, elfi_prior, dim, observed=np.expand_dims(data, 0), name=\"simulator\")\n",
    "dist = elfi.Distance('euclidean', elfi_simulator, name=\"dist\")"
   ]
  },
  {
   "cell_type": "code",
   "execution_count": 36,
   "metadata": {},
   "outputs": [],
   "source": [
    "bounds = [(-2.5, 2.5)]\n",
    "dim = data.shape[-1]\n",
    "\n",
    "# Defines the ROMC inference method\n",
    "romc = elfi.ROMC(dist, bounds)"
   ]
  },
  {
   "cell_type": "markdown",
   "metadata": {},
   "source": [
    "**Functionalities of ROMC**\n",
    "\n",
    "We can split the functionalities of the ROMC inference method, in three categories; the training (fitting) part, the inference part.\n",
    "\n",
    "**Training (Fitting) part**\n",
    "\n",
    "In the training part, the algorithm (i) transforms the random sampling DAG into deterministic optimisation problems by sampling the nuisance variables (ii) solves the optimisation problems and (iii) estimates the Bounding Box areas around the solutions. For the training part, the 3 following functionalities are exposed:\n",
    "\n",
    "* **solve_problems**(n1, seed, use_gp): draws n1 nuisance variables and then defines and solves n1 optimisation problems. If use_gp==True, Bayesian Optimization is used instead of gradient_based and a Gaussian Process is fitted as distance model.\n",
    "* **estimate_regions**(eps, region_mode): creates square bounding boxes around the solutions $\\theta_*$ of the optimisation problems. If solve_problems is called with use_gp=True, region mode must be \"gp\". \n",
    "* **fit_posterior**(n1, eps, region_mode, seed): combines both steps above in a single function. The argument passed at region mode defines whether GP will be used.\n",
    "\n",
    "**Inference part**\n",
    "\n",
    "Afterwards, the user may ask three separate things from the estimated posterior:\n",
    "\n",
    "* **sample**(n2): the posterior asks for n2 **weighted** samples per optimisation problem. In total, the method will provide $n_1*n_2$ samples, alongside with their weights.\n",
    "* **compute_expectation**(h): h is a function that maps the samples to an output. This routine approximates $E_{P(\\theta|data)}[h(\\theta)]$ as $\\frac{\\sum_i h(\\theta_i)w_i}{\\sum_i w_i}$\n",
    "* **eval_unnorm_posterior**($\\theta$): this method evaluates the posterior at the point $\\theta$, as $p(\\theta|data) \\approx p(\\theta) \\sum_i \\mathbb{1}_{C_\\epsilon^{(i)}}(\\theta)$. \n",
    "* **eval_posterior**($\\theta$): this method evaluates the posterior at the point $\\theta$, as $p(\\theta|data) \\approx \\frac{1}{Z} p(\\theta) \\sum_i \\mathbb{1}_{C_\\epsilon^{(i)}}(\\theta)$. Approximating Z by summing over all the subspace where the prior has mass, is computationally expensive, hence this method works only in low dimensions (up to 3D). In higher dimensions, only evaluating the unnormalised posterior is possible.\n",
    "\n",
    "\n",
    "**Evaluation Part**\n",
    "\n",
    "* **compute_divergence**(approximation, ground_truth, limits, step, distance): approximation and ground_truth are Callables that evaluate the posterior at theta. distance can be either KL-Divergence (default) or Jensen-Shannon.  (Works up to 2D)\n",
    "\n",
    "* **compute_ess**: computes the effective sample size (samples must have been drawn)\n",
    "\n",
    "* **all the standard functionalities of the class results of the ELFI package, i.e. plot_marginals** \n",
    "\n",
    "\n",
    "**Method Inspection**:\n",
    "\n",
    "* **theta_hist**(): plots a histogramm of the distances $d_*^{(i)}$ between the produced and the observed data at the final node, for each optimisation problem. Inspecting, this histogram is a good indicator for setting the threshold $\\epsilon$\n",
    "* **visualize_region**(i): plots the area around $\\theta_*^{(i)}$, for the i-th optimisation problem. Works only for 1D and 2D case where the space can be visualized."
   ]
  },
  {
   "cell_type": "markdown",
   "metadata": {},
   "source": [
    "## Training"
   ]
  },
  {
   "cell_type": "code",
   "execution_count": 37,
   "metadata": {},
   "outputs": [
    {
     "name": "stdout",
     "output_type": "stream",
     "text": [
      "### Solving problems using a gradient-based method ###\n",
      "Progress: |██████████████████████████████████████████████████| 100.0% Complete\n",
      "Time: 18.937 sec\n",
      "Time: 18.937 sec\n"
     ]
    }
   ],
   "source": [
    "# Define and solve n1 optimisation problems\n",
    "n1 = 300\n",
    "seed = 23\n",
    "optimizer_args = {}\n",
    "use_bo=False\n",
    "romc.solve_problems(n1=n1, seed=seed, use_bo=use_bo, optimizer_args=optimizer_args)"
   ]
  },
  {
   "cell_type": "code",
   "execution_count": 38,
   "metadata": {},
   "outputs": [
    {
     "data": {
      "image/png": "[encoded data removed]",
      "text/plain": [
       "<Figure size 432x288 with 1 Axes>"
      ]
     },
     "metadata": {
      "needs_background": "light"
     },
     "output_type": "display_data"
    }
   ],
   "source": [
    "# plots the disribution of optimal distances\n",
    "romc.distance_hist(bins=100)"
   ]
  },
  {
   "cell_type": "code",
   "execution_count": 44,
   "metadata": {},
   "outputs": [
    {
     "name": "stdout",
     "output_type": "stream",
     "text": [
      "Total solutions: 300, Accepted solutions after filtering: 170\n",
      "### Estimating regions ###\n",
      "\n",
      "Progress: |██████████████████████████████████████████████████| 100.0% Complete\n",
      "Time: 38.206 sec \n",
      "\n",
      "### Fitting local models ###\n",
      "\n",
      "Progress: |██████████████████████████████████████████████████| 100.0% Complete\n",
      "Time: 11.238 sec \n",
      "\n"
     ]
    }
   ],
   "source": [
    "eps_filter = 5\n",
    "eps_region = 10\n",
    "eps_cutoff = .1\n",
    "use_surrogate = False\n",
    "region_args=None\n",
    "fit_models = True\n",
    "fit_models_args = {\"nof_points\":30}\n",
    "\n",
    "romc.estimate_regions(eps_filter=eps_filter, eps_region=eps_region, eps_cutoff=eps_cutoff, \n",
    "                      use_surrogate=use_surrogate, region_args=region_args, \n",
    "                      fit_models=fit_models, fit_models_args=fit_models_args)"
   ]
  },
  {
   "cell_type": "code",
   "execution_count": 40,
   "metadata": {},
   "outputs": [
    {
     "data": {
      "image/png": "[encoded data removed]",
      "text/plain": [
       "<Figure size 432x288 with 1 Axes>"
      ]
     },
     "metadata": {
      "needs_background": "light"
     },
     "output_type": "display_data"
    }
   ],
   "source": [
    "romc.visualize_region(3)"
   ]
  },
  {
   "cell_type": "code",
   "execution_count": 41,
   "metadata": {},
   "outputs": [],
   "source": [
    "# all in one step\n",
    "# romc.fit_posterior(n1=n1, use_bo=use_bo, eps=\"auto\", \n",
    "#                    optimizer_args=optimizer_args, quantile=.9, region_args=region_args, seed=seed)"
   ]
  },
  {
   "cell_type": "markdown",
   "metadata": {},
   "source": [
    "## Inference"
   ]
  },
  {
   "cell_type": "code",
   "execution_count": 42,
   "metadata": {},
   "outputs": [
    {
     "name": "stdout",
     "output_type": "stream",
     "text": [
      "Posterior evaluation: f(theta=2.000)=0.000\n"
     ]
    }
   ],
   "source": [
    "theta = np.array([[2.]])\n",
    "print(\"Posterior evaluation: f(theta=%.3f)=%.3f\" %(theta, romc.eval_posterior(theta=theta)))"
   ]
  },
  {
   "cell_type": "code",
   "execution_count": 51,
   "metadata": {},
   "outputs": [
    {
     "data": {
      "image/png": "[encoded data removed]",
      "text/plain": [
       "<Figure size 432x288 with 1 Axes>"
      ]
     },
     "metadata": {
      "needs_background": "light"
     },
     "output_type": "display_data"
    }
   ],
   "source": [
    "romc.romc_posterior.eps_cutoff = 1.5\n",
    "romc.romc_posterior.partition = None\n",
    "\n",
    "# make plot\n",
    "plt.figure()\n",
    "plt.xlim(-3, 3)\n",
    "plt.xlabel(\"theta\")\n",
    "plt.ylabel(\"Density\")\n",
    "plt.ylim(0, 1)\n",
    "\n",
    "# plot prior\n",
    "theta = np.linspace(-3, 3, 60)\n",
    "y = prior.pdf(theta)\n",
    "plt.plot(theta, y, 'b-.', label='Prior')\n",
    "\n",
    "# plot likelihood\n",
    "y = likelihood.pdf(x=data, theta=theta)\n",
    "plt.plot(theta, y, 'r-.', label='Likelihood')\n",
    "\n",
    "# plot posterior\n",
    "y = np.squeeze(np.array([gt_posterior_pdf(th) for th in theta]))\n",
    "plt.plot(theta, y, 'g-.', label=\"True Posterior\")\n",
    "\n",
    "# plot ROMC posterior\n",
    "y = [romc.eval_posterior(np.array([[th]])) for th in theta]\n",
    "tmp = np.squeeze(np.array(y))\n",
    "plt.plot(theta, tmp, 'k-.o', label=\"ROMC Posterior\")\n",
    "\n",
    "plt.legend()\n",
    "plt.show(block=False)"
   ]
  },
  {
   "cell_type": "code",
   "execution_count": 52,
   "metadata": {},
   "outputs": [
    {
     "name": "stdout",
     "output_type": "stream",
     "text": [
      "### Getting Samples from the posterior ###\n",
      "\n",
      "Progress: |██████████████████████████████████████████████████| 100.0% Complete\n",
      "Time: 24.778 sec \n",
      "\n"
     ]
    }
   ],
   "source": [
    "n2 = 100\n",
    "tmp = romc.sample(n2=n2, seed=seed)"
   ]
  },
  {
   "cell_type": "code",
   "execution_count": 53,
   "metadata": {},
   "outputs": [
    {
     "data": {
      "image/png": "[encoded data removed]",
      "text/plain": [
       "<Figure size 432x288 with 1 Axes>"
      ]
     },
     "metadata": {
      "needs_background": "light"
     },
     "output_type": "display_data"
    }
   ],
   "source": [
    "# As before but now it plots the samples as well\n",
    "romc.visualize_region(3)"
   ]
  },
  {
   "cell_type": "code",
   "execution_count": 54,
   "metadata": {},
   "outputs": [
    {
     "name": "stdout",
     "output_type": "stream",
     "text": [
      "Expected value   : -0.009\n",
      "Expected variance: 0.303\n"
     ]
    }
   ],
   "source": [
    "# compute expectation\n",
    "print(\"Expected value   : %.3f\" % romc.compute_expectation(h = lambda x: np.squeeze(x)))\n",
    "print(\"Expected variance: %.3f\" % romc.compute_expectation(h =lambda x: np.squeeze(x)**2))"
   ]
  },
  {
   "cell_type": "markdown",
   "metadata": {},
   "source": [
    "## Evaluation"
   ]
  },
  {
   "cell_type": "code",
   "execution_count": 55,
   "metadata": {},
   "outputs": [
    {
     "name": "stdout",
     "output_type": "stream",
     "text": [
      "0.05662240899918884\n"
     ]
    }
   ],
   "source": [
    "# compute divergence\n",
    "def wrapper(x):\n",
    "    \"\"\"gt_posterior_pdf with batching.\n",
    "    \"\"\"\n",
    "    res = []\n",
    "    for i in range(x.shape[0]):\n",
    "        tmp = x[i]\n",
    "        res.append(gt_posterior_pdf(float(tmp)))\n",
    "    return np.array(res)\n",
    "\n",
    "print(romc.compute_divergence(wrapper, distance=\"Jensen-Shannon\"))"
   ]
  },
  {
   "cell_type": "code",
   "execution_count": 56,
   "metadata": {},
   "outputs": [
    {
     "name": "stdout",
     "output_type": "stream",
     "text": [
      "Nof Samples: 17000, ESS: 1641.424\n"
     ]
    }
   ],
   "source": [
    "# compute ESS\n",
    "print(\"Nof Samples: %d, ESS: %.3f\" % (len(romc.result.weights), romc.compute_ess()))"
   ]
  },
  {
   "cell_type": "code",
   "execution_count": 58,
   "metadata": {},
   "outputs": [
    {
     "data": {
      "image/png": "[encoded data removed]",
      "text/plain": [
       "<Figure size 1152x288 with 1 Axes>"
      ]
     },
     "metadata": {
      "needs_background": "light"
     },
     "output_type": "display_data"
    }
   ],
   "source": [
    "# some functionalities of ELFI results class\n",
    "romc.result.plot_marginals(weights=romc.result.weights, bins=30, density=True, range=(-3,3))\n",
    "plt.show()"
   ]
  },
  {
   "cell_type": "markdown",
   "metadata": {},
   "source": [
    "## Ιdeas for the future \n",
    "\n",
    "### TODO\n",
    "\n",
    "#### ASAP:\n",
    "* Add GT information on the expected mean, std (approx computationaly)\n",
    "\n",
    "* ~add passing the gradients in closed form~\n",
    "\n",
    "* slightly change the compute regions part\n",
    "\n",
    "* ~make eps_cutoff, eps two different quantities; set eps=eps_cutoff as a default option~\n",
    "\n",
    "* ~based on the drawn samples, plot ESS vs eps~\n",
    "\n",
    "* plot_pairs with GT information, check how plot pairs is implemented (maybe weights are not passed well)\n",
    "\n",
    "* check if gaussian processes work in MAE2, lorentz\n",
    "\n",
    "* ~add some functionalities for checking the posterior's correctness, if the user can provide a Ground truth (as in the example). Such, ideas could be: Jensen-Shannon, KL-Divergence, Euclidean Distance~\n",
    "\n",
    "* ~pass arguments at theta_hist~\n",
    "\n",
    "* ~add function for compute_ESS~\n",
    "\n",
    "#### As last-minute ideas:\n",
    "\n",
    "* parallelize the procedure. Make it possible for the algorithm to use all the cores of the cpu, when solving the optimisation problems and when computing the bounding box areas.\n",
    "\n",
    "* Try to find a clever way of reusing/recycling previous computations when we change epsilon\n",
    "\n",
    "* Sample from a multivariate gaussian (with zero-covariances) instead of a Uniform (iff the region is defined as a single Bounding Box, this is easy)\n",
    "\n",
    "* Approximate the Bounding Box region with many Bounding boxes instead of only one.\n",
    "\n",
    "\n",
    "\n"
   ]
  },
  {
   "cell_type": "markdown",
   "metadata": {
    "pycharm": {
     "name": "#%%\n"
    }
   },
   "source": [
    "## TODO\n",
    "\n",
    "* add true variance/mean, in order to compare with the sample statistics\n",
    "* plot_pairs with GT information, check how plot pairs is implemented (maybe weights are not passed well)\n",
    "* add inspection plot; nof_samples vs epsilon\n",
    "* divide e_cutoff and epsilon, enable passing another epsilon < epsilon_cutoff on posterior, expectation etc \n",
    "* make a plot ESS vs epsilon after the samples have been drawn\n",
    "\n",
    "\n",
    "## TODO afterwards\n",
    "\n",
    "* parallelize the procedures\n",
    "* \n"
   ]
  },
  {
   "cell_type": "code",
   "execution_count": null,
   "metadata": {},
   "outputs": [],
   "source": []
  },
  {
   "cell_type": "code",
   "execution_count": null,
   "metadata": {},
   "outputs": [],
   "source": []
  }
 ],
 "metadata": {
  "kernelspec": {
   "display_name": "Python 3",
   "language": "python",
   "name": "python3"
  },
  "language_info": {
   "codemirror_mode": {
    "name": "ipython",
    "version": 3
   },
   "file_extension": ".py",
   "mimetype": "text/x-python",
   "name": "python",
   "nbconvert_exporter": "python",
   "pygments_lexer": "ipython3",
   "version": "3.5.6"
  }
 },
 "nbformat": 4,
 "nbformat_minor": 4
}
