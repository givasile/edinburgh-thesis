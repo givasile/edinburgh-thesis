{
 "cells": [
  {
   "cell_type": "markdown",
   "metadata": {},
   "source": [
    "This presentation is meant to illustrate the functionalities provided by the ROMC inference method, at the ELFI package."
   ]
  },
  {
   "cell_type": "code",
   "execution_count": 1,
   "metadata": {},
   "outputs": [],
   "source": [
    "import timeit\n",
    "import matplotlib.pyplot as plt\n",
    "import numpy as np\n",
    "import scipy.integrate as integrate\n",
    "import scipy.stats as ss\n",
    "import elfi\n",
    "\n",
    "np.random.seed(21)"
   ]
  },
  {
   "cell_type": "markdown",
   "metadata": {},
   "source": [
    "## Ground-truth posterior approximation"
   ]
  },
  {
   "cell_type": "code",
   "execution_count": 2,
   "metadata": {},
   "outputs": [],
   "source": [
    "class Prior:\n",
    "    def rvs(self, size=None, random_state=None):\n",
    "        # size from (BS,) -> (BS,1)\n",
    "        if size is not None:\n",
    "            size = np.concatenate((size, [1]))\n",
    "        return ss.uniform(loc=-2.5, scale=5).rvs(size=size, random_state=random_state)\n",
    "\n",
    "    def pdf(self, theta):\n",
    "        return ss.uniform(loc=-2.5, scale=5).pdf(theta)\n",
    "\n",
    "    def logpdf(self, theta):\n",
    "        return ss.uniform(loc=-2.5, scale=5).logpdf(theta)"
   ]
  },
  {
   "cell_type": "code",
   "execution_count": 3,
   "metadata": {},
   "outputs": [],
   "source": [
    "class Likelihood:\n",
    "    r\"\"\"Implements the distribution\n",
    "    P(x|theta) = N(x; theta^4, 1)         if theta in [-0.5, 0.5]\n",
    "                 N(x; theta + 0.5 + 0.5^4 if theta > 0.5\n",
    "                 N(x; theta - 0.5 + 0.5^4 if theta < 0.5\n",
    "    \"\"\"\n",
    "\n",
    "    def rvs(self, theta, seed=None):\n",
    "        \"\"\"Vectorized sampling from likelihood.\n",
    "\n",
    "        \"\"\"\n",
    "        assert isinstance(theta, np.ndarray)\n",
    "        theta = theta.astype(np.float)\n",
    "        samples = np.empty_like(theta)\n",
    "\n",
    "        c = 0.5 - 0.5 ** 4\n",
    "\n",
    "        tmp_theta = theta[theta <= -0.5]\n",
    "        samples[theta <= -0.5] = ss.norm(loc=-tmp_theta - c, scale=1).rvs(random_state=seed)\n",
    "        theta[theta <= -0.5] = np.inf\n",
    "\n",
    "        tmp_theta = theta[theta <= 0.5]\n",
    "        samples[theta <= 0.5] = ss.norm(loc=tmp_theta**4, scale=1).rvs(random_state=seed)\n",
    "        theta[theta <= 0.5] = np.inf\n",
    "\n",
    "        tmp_theta = theta[theta < np.inf]\n",
    "        samples[theta < np.inf] = ss.norm(loc=tmp_theta - c, scale=1).rvs(random_state=seed)\n",
    "        theta[theta < np.inf] = np.inf\n",
    "\n",
    "        assert np.allclose(theta, np.inf)\n",
    "        return samples\n",
    "\n",
    "    def pdf(self, x, theta):\n",
    "        \"\"\"Vectorised pdf evaluation.\n",
    "        \"\"\"\n",
    "        assert isinstance(x, np.ndarray)\n",
    "        assert isinstance(theta, np.ndarray)\n",
    "        assert theta.ndim == 1\n",
    "        assert x.ndim == 1\n",
    "\n",
    "        BS = theta.shape[0]\n",
    "        N = x.shape[0]\n",
    "        theta = theta.astype(np.float)\n",
    "\n",
    "        pdf_eval = np.zeros((BS))\n",
    "        c = 0.5 - 0.5 ** 4\n",
    "\n",
    "        def help_func(lim, mode):\n",
    "            tmp_theta = theta[theta <= lim]\n",
    "            tmp_theta = np.expand_dims(tmp_theta, -1)\n",
    "            scale = np.ones_like(tmp_theta)\n",
    "            if mode == 1:\n",
    "                pdf_eval[theta <= lim] = np.prod(ss.norm(loc=-tmp_theta - c, scale=scale).pdf(x), 1)\n",
    "            elif mode == 2:\n",
    "                pdf_eval[theta <= lim] = np.prod(ss.norm(loc=tmp_theta**4, scale=scale).pdf(x), 1)\n",
    "            elif mode == 3:\n",
    "                pdf_eval[theta <= lim] = np.prod(ss.norm(loc=tmp_theta - c, scale=scale).pdf(x), 1)\n",
    "            theta[theta <= lim] = np.inf\n",
    "\n",
    "        big_M = 10**7\n",
    "        help_func(lim=-0.5, mode=1)\n",
    "        help_func(lim=0.5, mode=2)\n",
    "        help_func(lim=big_M, mode=3)\n",
    "        assert np.allclose(theta, np.inf)\n",
    "        return pdf_eval"
   ]
  },
  {
   "cell_type": "code",
   "execution_count": 4,
   "metadata": {},
   "outputs": [],
   "source": [
    "def summary(x):\n",
    "    assert isinstance(x, np.ndarray)\n",
    "    if x.ndim == 1:\n",
    "        return x\n",
    "    elif x.ndim == 2:\n",
    "        return np.prod(x, 1)\n",
    "\n",
    "\n",
    "def create_factor(x):\n",
    "    \"\"\"Creates the function g(theta) = L(theta)*prior(theta).\n",
    "\n",
    "    \"\"\"\n",
    "    lik = Likelihood()\n",
    "    pr = Prior()\n",
    "    def tmp_func(theta):\n",
    "        return float(lik.pdf(x, np.array([theta])) * pr.pdf(theta))\n",
    "    return tmp_func\n",
    "\n",
    "\n",
    "def approximate_Z(func, a, b):\n",
    "    \"\"\"Approximates the partition function with exhaustive integration.\n",
    "    \"\"\"\n",
    "    return integrate.quad(func, a, b)[0]\n",
    "\n",
    "\n",
    "def create_gt_posterior(likelihood, prior, data, Z):\n",
    "    \"\"\"Returns a function that computes the gt posterior\n",
    "    \"\"\"\n",
    "    def tmp_func(theta):\n",
    "        return likelihood.pdf(data, np.array([theta])) * prior.pdf(np.array([theta])) / Z\n",
    "    return tmp_func\n",
    "\n",
    "def compute_gt_mean(pdf):\n",
    "    def integrad(x):\n",
    "        return x*pdf(x)\n",
    "    return integrate.quad(integrad, -3, 3)\n",
    "\n",
    "def compute_gt_variance(pdf, mean):\n",
    "    def integrad(x):\n",
    "        return (x**2 - mean)*pdf(x)\n",
    "    return np.sqrt(integrate.quad(integrad, -3, 3))"
   ]
  },
  {
   "cell_type": "code",
   "execution_count": 5,
   "metadata": {},
   "outputs": [],
   "source": [
    "data = np.array([0.])\n",
    "dim = data.shape[0]\n",
    "a = -2.5  # integration left limit\n",
    "b = 2.5   # integration right limit\n",
    "\n",
    "likelihood = Likelihood()\n",
    "prior = Prior()\n",
    "\n",
    "factor = create_factor(x=data)\n",
    "Z = approximate_Z(factor, a, b)\n",
    "gt_posterior_pdf = create_gt_posterior(likelihood, prior, data, Z)\n",
    "gt_posterior_mean = compute_gt_mean(gt_posterior_pdf)[0]\n",
    "gt_posterior_var = compute_gt_variance(gt_posterior_pdf, gt_posterior_mean)[0]"
   ]
  },
  {
   "cell_type": "code",
   "execution_count": 6,
   "metadata": {},
   "outputs": [
    {
     "data": {
      "image/png": "[encoded data removed]",
      "text/plain": [
       "<Figure size 432x288 with 1 Axes>"
      ]
     },
     "metadata": {
      "needs_background": "light"
     },
     "output_type": "display_data"
    }
   ],
   "source": [
    "plt.figure()\n",
    "plt.title(\"Ground Truth posterior\")\n",
    "plt.xlim(-3, 3)\n",
    "plt.xlabel(\"theta\")\n",
    "plt.ylabel(\"PDF\")\n",
    "plt.ylim(0, 1)\n",
    "\n",
    "# plot prior\n",
    "theta = np.linspace(-3, 3, 60)\n",
    "y = prior.pdf(theta)\n",
    "plt.plot(theta, y, 'b-.', label='Prior')\n",
    "\n",
    "# plot likelihood\n",
    "y = likelihood.pdf(x=data, theta=theta)\n",
    "plt.plot(theta, y, 'r-.', label='Likelihood')\n",
    "\n",
    "# plot posterior\n",
    "y = np.squeeze(np.array([gt_posterior_pdf(th) for th in theta]))\n",
    "plt.plot(theta, y, 'g-.', label=\"True Posterior\")\n",
    "\n",
    "plt.legend()\n",
    "plt.show(block=False)"
   ]
  },
  {
   "cell_type": "markdown",
   "metadata": {},
   "source": [
    "## Define the model at elfi"
   ]
  },
  {
   "cell_type": "code",
   "execution_count": 7,
   "metadata": {},
   "outputs": [],
   "source": [
    "def simulator(theta, dim, batch_size=10000, random_state=None):\n",
    "    likelihood = Likelihood()\n",
    "    theta = np.repeat(theta, dim, -1)\n",
    "    return likelihood.rvs(theta, seed=random_state)\n",
    "\n",
    "\n",
    "elfi.new_model(\"1D_example\")\n",
    "elfi_prior = elfi.Prior(Prior(), name=\"theta\")\n",
    "elfi_simulator = elfi.Simulator(simulator, elfi_prior, dim, observed=np.expand_dims(data, 0), name=\"simulator\")\n",
    "dist = elfi.Distance('euclidean', elfi_simulator, name=\"dist\")"
   ]
  },
  {
   "cell_type": "code",
   "execution_count": 8,
   "metadata": {},
   "outputs": [],
   "source": [
    "bounds = [(-2.5, 2.5)]\n",
    "dim = data.shape[-1]\n",
    "\n",
    "# Defines the ROMC inference method\n",
    "romc = elfi.ROMC(dist, bounds)"
   ]
  },
  {
   "cell_type": "markdown",
   "metadata": {},
   "source": [
    "## Training part, using gradient-based optimizer"
   ]
  },
  {
   "cell_type": "code",
   "execution_count": 9,
   "metadata": {},
   "outputs": [
    {
     "name": "stdout",
     "output_type": "stream",
     "text": [
      "### Solving problems using a gradient-based method ###\n",
      "Time: 23.634 sec===========================================-] 99.8% Complete\n",
      "Time: 23.634 sec\n"
     ]
    }
   ],
   "source": [
    "# Define and solve n1 optimisation problems\n",
    "n1 = 500\n",
    "seed = 21\n",
    "optimizer_args = {}\n",
    "use_bo=False\n",
    "romc.solve_problems(n1=n1, seed=seed, use_bo=use_bo, optimizer_args=optimizer_args)"
   ]
  },
  {
   "cell_type": "code",
   "execution_count": 10,
   "metadata": {},
   "outputs": [
    {
     "data": {
      "image/png": "[encoded data removed]",
      "text/plain": [
       "<Figure size 432x288 with 1 Axes>"
      ]
     },
     "metadata": {
      "needs_background": "light"
     },
     "output_type": "display_data"
    }
   ],
   "source": [
    "# plots the disribution of optimal distances\n",
    "romc.distance_hist()"
   ]
  },
  {
   "cell_type": "code",
   "execution_count": 11,
   "metadata": {},
   "outputs": [
    {
     "name": "stdout",
     "output_type": "stream",
     "text": [
      "Total solutions: 500, Accepted solutions after filtering: 386\n",
      "### Estimating regions ###\n",
      "\n",
      "Time: 54.375 sec ==========================================-] 99.8% Complete\n",
      "\n",
      "### Fitting local models ###\n",
      "\n",
      "Time: 23.451 sec ==========================================-] 99.8% Complete\n",
      "\n"
     ]
    }
   ],
   "source": [
    "eps_filter = .75\n",
    "fit_models = True\n",
    "fit_models_args = {\"nof_points\":30}\n",
    "romc.estimate_regions(eps_filter=eps_filter, fit_models=fit_models, fit_models_args=fit_models_args)"
   ]
  },
  {
   "cell_type": "code",
   "execution_count": 12,
   "metadata": {},
   "outputs": [
    {
     "name": "stderr",
     "output_type": "stream",
     "text": [
      " /home/givasile/miniconda3/envs/elfi3.7/lib/python3.7/site-packages/numpy/core/_asarray.py:83: VisibleDeprecationWarning:Creating an ndarray from ragged nested sequences (which is a list-or-tuple of lists-or-tuples-or ndarrays with different lengths or shapes) is deprecated. If you meant to do this, you must specify 'dtype=object' when creating the ndarray\n"
     ]
    },
    {
     "data": {
      "image/png": "[encoded data removed]",
      "text/plain": [
       "<Figure size 432x288 with 1 Axes>"
      ]
     },
     "metadata": {
      "needs_background": "light"
     },
     "output_type": "display_data"
    }
   ],
   "source": [
    "romc.visualize_region(2)"
   ]
  },
  {
   "cell_type": "markdown",
   "metadata": {},
   "source": [
    "## Inference"
   ]
  },
  {
   "cell_type": "code",
   "execution_count": 13,
   "metadata": {},
   "outputs": [
    {
     "name": "stdout",
     "output_type": "stream",
     "text": [
      "Time: 1.432 sec \n",
      "\n",
      "Time: 0.049 sec \n",
      "\n",
      "Time: 0.045 sec \n",
      "\n",
      "Time: 0.046 sec \n",
      "\n",
      "Time: 0.046 sec \n",
      "\n",
      "Time: 0.045 sec \n",
      "\n",
      "Time: 0.044 sec \n",
      "\n",
      "Time: 0.045 sec \n",
      "\n",
      "Time: 0.046 sec \n",
      "\n",
      "Time: 0.045 sec \n",
      "\n",
      "Time: 0.045 sec \n",
      "\n",
      "Time: 0.045 sec \n",
      "\n",
      "Time: 0.045 sec \n",
      "\n",
      "Time: 0.045 sec \n",
      "\n",
      "Time: 0.045 sec \n",
      "\n",
      "Time: 0.045 sec \n",
      "\n",
      "Time: 0.048 sec \n",
      "\n",
      "Time: 0.053 sec \n",
      "\n",
      "Time: 0.051 sec \n",
      "\n",
      "Time: 0.047 sec \n",
      "\n",
      "Time: 0.045 sec \n",
      "\n",
      "Time: 0.047 sec \n",
      "\n",
      "Time: 0.045 sec \n",
      "\n",
      "Time: 0.044 sec \n",
      "\n",
      "Time: 0.044 sec \n",
      "\n",
      "Time: 0.043 sec \n",
      "\n",
      "Time: 0.046 sec \n",
      "\n",
      "Time: 0.045 sec \n",
      "\n",
      "Time: 0.071 sec \n",
      "\n",
      "Time: 0.049 sec \n",
      "\n",
      "Time: 0.046 sec \n",
      "\n",
      "Time: 0.047 sec \n",
      "\n",
      "Time: 0.046 sec \n",
      "\n",
      "Time: 0.044 sec \n",
      "\n",
      "Time: 0.045 sec \n",
      "\n",
      "Time: 0.046 sec \n",
      "\n",
      "Time: 0.045 sec \n",
      "\n",
      "Time: 0.045 sec \n",
      "\n",
      "Time: 0.046 sec \n",
      "\n",
      "Time: 0.046 sec \n",
      "\n",
      "Time: 0.046 sec \n",
      "\n",
      "Time: 0.045 sec \n",
      "\n",
      "Time: 0.045 sec \n",
      "\n",
      "Time: 0.045 sec \n",
      "\n",
      "Time: 0.045 sec \n",
      "\n",
      "Time: 0.045 sec \n",
      "\n",
      "Time: 0.047 sec \n",
      "\n",
      "Time: 0.047 sec \n",
      "\n",
      "Time: 0.045 sec \n",
      "\n",
      "Time: 0.046 sec \n",
      "\n",
      "Time: 0.045 sec \n",
      "\n",
      "Time: 0.046 sec \n",
      "\n",
      "Time: 0.046 sec \n",
      "\n",
      "Time: 0.046 sec \n",
      "\n",
      "Time: 0.054 sec \n",
      "\n",
      "Time: 0.050 sec \n",
      "\n",
      "Time: 0.047 sec \n",
      "\n",
      "Time: 0.047 sec \n",
      "\n",
      "Time: 0.046 sec \n",
      "\n",
      "Time: 0.051 sec \n",
      "\n"
     ]
    },
    {
     "data": {
      "image/png": "[encoded data removed]",
      "text/plain": [
       "<Figure size 432x288 with 1 Axes>"
      ]
     },
     "metadata": {
      "needs_background": "light"
     },
     "output_type": "display_data"
    }
   ],
   "source": [
    "# make plot\n",
    "plt.figure()\n",
    "plt.title(\"ROMC posterior approximation\")\n",
    "plt.xlim(-3, 3)\n",
    "plt.xlabel(\"theta\")\n",
    "plt.ylabel(\"Density\")\n",
    "plt.ylim(0, 1)\n",
    "\n",
    "# plot prior\n",
    "theta = np.linspace(-3, 3, 60)\n",
    "y = prior.pdf(theta)\n",
    "plt.plot(theta, y, 'b-.', label='Prior')\n",
    "\n",
    "# plot likelihood\n",
    "y = likelihood.pdf(x=data, theta=theta)\n",
    "plt.plot(theta, y, 'r-.', label='Likelihood')\n",
    "\n",
    "# plot posterior\n",
    "y = np.squeeze(np.array([gt_posterior_pdf(th) for th in theta]))\n",
    "plt.plot(theta, y, 'g-.', label=\"True Posterior\")\n",
    "\n",
    "# plot ROMC posterior\n",
    "y = [romc.eval_posterior(np.array([[th]])) for th in theta]\n",
    "tmp = np.squeeze(np.array(y))\n",
    "plt.plot(theta, tmp, 'k-.o', label=\"ROMC Posterior\")\n",
    "\n",
    "plt.legend()\n",
    "plt.show(block=False)"
   ]
  },
  {
   "cell_type": "code",
   "execution_count": 14,
   "metadata": {},
   "outputs": [
    {
     "name": "stdout",
     "output_type": "stream",
     "text": [
      "### Getting Samples from the posterior ###\n",
      "\n",
      "Time: 137.036 sec ===================================================================================-] 100.0% \n",
      "\n"
     ]
    }
   ],
   "source": [
    "n2 = 200\n",
    "tmp = romc.sample(n2=n2)"
   ]
  },
  {
   "cell_type": "code",
   "execution_count": 15,
   "metadata": {},
   "outputs": [
    {
     "name": "stderr",
     "output_type": "stream",
     "text": [
      " /home/givasile/miniconda3/envs/elfi3.7/lib/python3.7/site-packages/numpy/core/_asarray.py:83: VisibleDeprecationWarning:Creating an ndarray from ragged nested sequences (which is a list-or-tuple of lists-or-tuples-or ndarrays with different lengths or shapes) is deprecated. If you meant to do this, you must specify 'dtype=object' when creating the ndarray\n"
     ]
    },
    {
     "data": {
      "image/png": "[encoded data removed]",
      "text/plain": [
       "<Figure size 432x288 with 1 Axes>"
      ]
     },
     "metadata": {
      "needs_background": "light"
     },
     "output_type": "display_data"
    }
   ],
   "source": [
    "# As before but now it plots the samples as well\n",
    "romc.visualize_region(2)"
   ]
  },
  {
   "cell_type": "code",
   "execution_count": 16,
   "metadata": {},
   "outputs": [
    {
     "name": "stdout",
     "output_type": "stream",
     "text": [
      "Expected mean    : -0.011, ground-truth: 0.000\n",
      "Expected variance: 1.132, ground-truth: 1.100\n"
     ]
    }
   ],
   "source": [
    "# compute expectation\n",
    "print(\"Expected mean    : %.3f, ground-truth: %.3f\" % (romc.compute_expectation(h = lambda x: np.squeeze(x)), gt_posterior_mean))\n",
    "print(\"Expected variance: %.3f, ground-truth: %.3f\" % (romc.compute_expectation(h =lambda x: np.squeeze(x)**2), gt_posterior_var))"
   ]
  },
  {
   "cell_type": "markdown",
   "metadata": {},
   "source": [
    "## Evaluation of the inference"
   ]
  },
  {
   "cell_type": "code",
   "execution_count": 17,
   "metadata": {},
   "outputs": [
    {
     "name": "stdout",
     "output_type": "stream",
     "text": [
      "Time: 2.319 sec \n",
      "\n",
      "Divergence from ground-truth, using Jensen-Shannon distance: 0.070\n"
     ]
    }
   ],
   "source": [
    "# compute divergence\n",
    "def wrapper(x):\n",
    "    \"\"\"gt_posterior_pdf with batching.\n",
    "    \"\"\"\n",
    "    res = []\n",
    "    for i in range(x.shape[0]):\n",
    "        tmp = x[i]\n",
    "        res.append(gt_posterior_pdf(float(tmp)))\n",
    "    return np.array(res)\n",
    "\n",
    "print(\"Divergence from ground-truth, using Jensen-Shannon distance: %.3f\" % romc.compute_divergence(wrapper, distance=\"Jensen-Shannon\"))"
   ]
  },
  {
   "cell_type": "code",
   "execution_count": 18,
   "metadata": {},
   "outputs": [
    {
     "name": "stdout",
     "output_type": "stream",
     "text": [
      "Nof Samples: 77200, ESS: 64743.294\n"
     ]
    }
   ],
   "source": [
    "# compute ESS\n",
    "print(\"Nof Samples: %d, ESS: %.3f\" % (len(romc.result.weights), romc.compute_ess()))"
   ]
  },
  {
   "cell_type": "code",
   "execution_count": 19,
   "metadata": {},
   "outputs": [
    {
     "data": {
      "image/png": "[encoded data removed]",
      "text/plain": [
       "<Figure size 432x288 with 1 Axes>"
      ]
     },
     "metadata": {
      "needs_background": "light"
     },
     "output_type": "display_data"
    }
   ],
   "source": [
    "# plot histogram of samples\n",
    "plt.figure()\n",
    "plt.title(\"Histogram of samples drawn from the posterior\")\n",
    "plt.hist(romc.result.samples_array, weights=romc.result.weights, bins=100, density=True, range=(-3,3))\n",
    "\n",
    "theta = np.linspace(-3, 3, 60)\n",
    "y = np.squeeze(np.array([gt_posterior_pdf(th) for th in theta]))\n",
    "plt.plot(theta, y, 'r-o', label=\"True Posterior\")\n",
    "\n",
    "plt.ylim([0, .6])\n",
    "plt.xlabel('theta')\n",
    "plt.ylabel('density')\n",
    "plt.show()"
   ]
  },
  {
   "cell_type": "markdown",
   "metadata": {},
   "source": [
    "## Ιdeas for the future \n",
    "\n",
    "### TODO\n",
    "\n",
    "#### ASAP:\n",
    "* Add GT information on the expected mean, std (approx computationaly)\n",
    "\n",
    "* add inspection plot; nof_samples vs epsilon\n",
    "\n",
    "* make a plot ESS vs epsilon after the samples have been drawn\n",
    "\n",
    "* ~add passing the gradients in closed form~\n",
    "\n",
    "* ~slightly change the compute regions part~\n",
    "\n",
    "* ~make eps_cutoff, eps two different quantities; set eps=eps_cutoff as a default option~\n",
    "\n",
    "* ~based on the drawn samples, plot ESS vs eps~\n",
    "\n",
    "* ~plot_pairs with GT information, check how plot pairs is implemented (maybe weights are not passed well)~\n",
    "\n",
    "* ~add some functionalities for checking the posterior's correctness, if the user can provide a Ground truth (as in the example). Such, ideas could be: Jensen-Shannon, KL-Divergence, Euclidean Distance~\n",
    "\n",
    "* ~pass arguments at theta_hist~\n",
    "\n",
    "* ~add function for compute_ESS~\n",
    "\n",
    "#### Future Ideas:\n",
    "\n",
    "* parallelize the procedure. Make it possible for the algorithm to use all the cores of the cpu, when solving the optimisation problems and when computing the bounding box areas.\n",
    "\n",
    "* Try to find a clever way of reusing/recycling previous computations when we change epsilon\n",
    "\n",
    "* Sample from a multivariate gaussian (with zero-covariances) instead of a Uniform (iff the region is defined as a single Bounding Box, this is easy)\n",
    "\n",
    "* Approximate the Bounding Box region with many Bounding boxes instead of only one.\n",
    "\n",
    "\n",
    "\n"
   ]
  },
  {
   "cell_type": "markdown",
   "metadata": {},
   "source": [
    "# Training part, using Bayesian Optimisation\n",
    "\n",
    "We repeat the same procedure as before, using the Bayesian optimisation scheme. We will use less optimisation problems (n1=100), because the solving them is more time consuming using Bayesian Optimisation."
   ]
  },
  {
   "cell_type": "code",
   "execution_count": 20,
   "metadata": {},
   "outputs": [
    {
     "name": "stdout",
     "output_type": "stream",
     "text": [
      "### Solving problems using Bayesian optimisation ###\n",
      "Progress [===========---------------------------------------] 23.0% Complete\r"
     ]
    },
    {
     "name": "stderr",
     "output_type": "stream",
     "text": [
      " /home/givasile/miniconda3/envs/elfi3.7/lib/python3.7/site-packages/GPy/kern/src/stationary.py:168: RuntimeWarning:overflow encountered in true_divide\n",
      " /home/givasile/miniconda3/envs/elfi3.7/lib/python3.7/site-packages/GPy/kern/src/rbf.py:52: RuntimeWarning:overflow encountered in square\n",
      " /home/givasile/miniconda3/envs/elfi3.7/lib/python3.7/site-packages/GPy/kern/src/rbf.py:76: RuntimeWarning:invalid value encountered in multiply\n",
      " /home/givasile/miniconda3/envs/elfi3.7/lib/python3.7/site-packages/paramz/transformations.py:119: RuntimeWarning:overflow encountered in expm1\n",
      " /home/givasile/miniconda3/envs/elfi3.7/lib/python3.7/site-packages/paramz/transformations.py:121: RuntimeWarning:overflow encountered in expm1\n",
      " /home/givasile/miniconda3/envs/elfi3.7/lib/python3.7/site-packages/GPy/core/parameterization/priorizable.py:81: RuntimeWarning:overflow encountered in double_scalars\n"
     ]
    },
    {
     "name": "stdout",
     "output_type": "stream",
     "text": [
      "Time: 372.575 sec==========================================-] 99.0% Complete\n",
      "Time: 372.575 sec\n"
     ]
    }
   ],
   "source": [
    "# Define and solve n1 optimisation problems\n",
    "n1 = 100\n",
    "seed = 21\n",
    "optimizer_args = {}\n",
    "use_bo=True\n",
    "romc.solve_problems(n1=n1, seed=seed, use_bo=use_bo, optimizer_args=optimizer_args)"
   ]
  },
  {
   "cell_type": "code",
   "execution_count": 21,
   "metadata": {},
   "outputs": [
    {
     "data": {
      "image/png": "[encoded data removed]",
      "text/plain": [
       "<Figure size 432x288 with 1 Axes>"
      ]
     },
     "metadata": {
      "needs_background": "light"
     },
     "output_type": "display_data"
    }
   ],
   "source": [
    "# plots the disribution of optimal distances\n",
    "romc.distance_hist()"
   ]
  },
  {
   "cell_type": "code",
   "execution_count": 22,
   "metadata": {},
   "outputs": [
    {
     "name": "stdout",
     "output_type": "stream",
     "text": [
      "Total solutions: 100, Accepted solutions after filtering: 75\n",
      "### Estimating regions ###\n",
      "\n",
      "Time: 7.474 sec ===========================================-] 99.0% Complete\n",
      "\n",
      "### Fitting local models ###\n",
      "\n",
      "Progress [========================--------------------------] 48.0% Complete\r"
     ]
    },
    {
     "name": "stderr",
     "output_type": "stream",
     "text": [
      " /home/givasile/miniconda3/envs/elfi3.7/lib/python3.7/site-packages/GPy/kern/src/stationary.py:168: RuntimeWarning:overflow encountered in true_divide\n",
      " /home/givasile/miniconda3/envs/elfi3.7/lib/python3.7/site-packages/GPy/kern/src/rbf.py:52: RuntimeWarning:overflow encountered in square\n"
     ]
    },
    {
     "name": "stdout",
     "output_type": "stream",
     "text": [
      "Time: 0.718 sec ===========================================-] 99.0% Complete\n",
      "\n"
     ]
    }
   ],
   "source": [
    "eps_filter = .75\n",
    "fit_models = True\n",
    "fit_models_args = {\"nof_points\":30}\n",
    "romc.estimate_regions(eps_filter=eps_filter, fit_models=fit_models, fit_models_args=fit_models_args)"
   ]
  },
  {
   "cell_type": "code",
   "execution_count": 23,
   "metadata": {},
   "outputs": [
    {
     "name": "stderr",
     "output_type": "stream",
     "text": [
      " /home/givasile/miniconda3/envs/elfi3.7/lib/python3.7/site-packages/numpy/core/_asarray.py:83: VisibleDeprecationWarning:Creating an ndarray from ragged nested sequences (which is a list-or-tuple of lists-or-tuples-or ndarrays with different lengths or shapes) is deprecated. If you meant to do this, you must specify 'dtype=object' when creating the ndarray\n"
     ]
    },
    {
     "data": {
      "image/png": "[encoded data removed]",
      "text/plain": [
       "<Figure size 432x288 with 1 Axes>"
      ]
     },
     "metadata": {
      "needs_background": "light"
     },
     "output_type": "display_data"
    }
   ],
   "source": [
    "romc.visualize_region(2)"
   ]
  },
  {
   "cell_type": "code",
   "execution_count": 24,
   "metadata": {},
   "outputs": [
    {
     "data": {
      "image/png": "[encoded data removed]",
      "text/plain": [
       "<Figure size 432x288 with 1 Axes>"
      ]
     },
     "metadata": {
      "needs_background": "light"
     },
     "output_type": "display_data"
    }
   ],
   "source": [
    "# check how the Gaussian Process surrogate model approximates the distance function\n",
    "tmp = romc.optim_problems[2]\n",
    "x = np.linspace(-5, 5, 100)\n",
    "y1 = [tmp.surrogate(np.atleast_1d(ii)) for ii in x]\n",
    "y2 = [tmp.objective(np.atleast_1d(ii)) for ii in x]\n",
    "\n",
    "plt.figure()\n",
    "plt.title(\"GP vs distance function\")\n",
    "plt.plot(x, y1, \"r-o\", label=\"GP surrogate model\")\n",
    "plt.plot(x, y2, \"b-o\", label=\"distance function\")\n",
    "plt.legend()\n",
    "plt.show()"
   ]
  },
  {
   "cell_type": "markdown",
   "metadata": {},
   "source": [
    "## Inference"
   ]
  },
  {
   "cell_type": "code",
   "execution_count": 25,
   "metadata": {},
   "outputs": [
    {
     "name": "stdout",
     "output_type": "stream",
     "text": [
      "Time: 0.423 sec \n",
      "\n",
      "Posterior evaluation: f(theta=0.000)=0.303\n"
     ]
    }
   ],
   "source": [
    "theta = np.array([[0.]])\n",
    "print(\"Posterior evaluation: f(theta=%.3f)=%.3f\" %(theta, romc.eval_posterior(theta=theta)))"
   ]
  },
  {
   "cell_type": "code",
   "execution_count": 26,
   "metadata": {},
   "outputs": [
    {
     "name": "stdout",
     "output_type": "stream",
     "text": [
      "Time: 0.012 sec \n",
      "\n",
      "Time: 0.012 sec \n",
      "\n",
      "Time: 0.012 sec \n",
      "\n",
      "Time: 0.012 sec \n",
      "\n",
      "Time: 0.012 sec \n",
      "\n",
      "Time: 0.012 sec \n",
      "\n",
      "Time: 0.012 sec \n",
      "\n",
      "Time: 0.012 sec \n",
      "\n",
      "Time: 0.011 sec \n",
      "\n",
      "Time: 0.012 sec \n",
      "\n",
      "Time: 0.012 sec \n",
      "\n",
      "Time: 0.011 sec \n",
      "\n",
      "Time: 0.013 sec \n",
      "\n",
      "Time: 0.012 sec \n",
      "\n",
      "Time: 0.012 sec \n",
      "\n",
      "Time: 0.012 sec \n",
      "\n",
      "Time: 0.012 sec \n",
      "\n",
      "Time: 0.012 sec \n",
      "\n",
      "Time: 0.012 sec \n",
      "\n",
      "Time: 0.012 sec \n",
      "\n",
      "Time: 0.012 sec \n",
      "\n",
      "Time: 0.012 sec \n",
      "\n",
      "Time: 0.012 sec \n",
      "\n",
      "Time: 0.012 sec \n",
      "\n",
      "Time: 0.012 sec \n",
      "\n",
      "Time: 0.012 sec \n",
      "\n",
      "Time: 0.011 sec \n",
      "\n",
      "Time: 0.012 sec \n",
      "\n",
      "Time: 0.012 sec \n",
      "\n",
      "Time: 0.012 sec \n",
      "\n",
      "Time: 0.011 sec \n",
      "\n",
      "Time: 0.012 sec \n",
      "\n",
      "Time: 0.012 sec \n",
      "\n",
      "Time: 0.012 sec \n",
      "\n",
      "Time: 0.012 sec \n",
      "\n",
      "Time: 0.012 sec \n",
      "\n",
      "Time: 0.013 sec \n",
      "\n",
      "Time: 0.012 sec \n",
      "\n",
      "Time: 0.012 sec \n",
      "\n",
      "Time: 0.012 sec \n",
      "\n",
      "Time: 0.011 sec \n",
      "\n",
      "Time: 0.012 sec \n",
      "\n",
      "Time: 0.012 sec \n",
      "\n",
      "Time: 0.012 sec \n",
      "\n",
      "Time: 0.012 sec \n",
      "\n",
      "Time: 0.013 sec \n",
      "\n",
      "Time: 0.012 sec \n",
      "\n",
      "Time: 0.012 sec \n",
      "\n",
      "Time: 0.012 sec \n",
      "\n",
      "Time: 0.012 sec \n",
      "\n",
      "Time: 0.012 sec \n",
      "\n",
      "Time: 0.012 sec \n",
      "\n",
      "Time: 0.013 sec \n",
      "\n",
      "Time: 0.012 sec \n",
      "\n",
      "Time: 0.012 sec \n",
      "\n",
      "Time: 0.012 sec \n",
      "\n",
      "Time: 0.012 sec \n",
      "\n",
      "Time: 0.012 sec \n",
      "\n",
      "Time: 0.012 sec \n",
      "\n",
      "Time: 0.012 sec \n",
      "\n"
     ]
    },
    {
     "data": {
      "image/png": "[encoded data removed]",
      "text/plain": [
       "<Figure size 432x288 with 1 Axes>"
      ]
     },
     "metadata": {
      "needs_background": "light"
     },
     "output_type": "display_data"
    }
   ],
   "source": [
    "# romc.romc_posterior.eps_cutoff = 1.5\n",
    "# romc.romc_posterior.partition = None\n",
    "\n",
    "# make plot\n",
    "plt.figure()\n",
    "plt.title(\"ROMC posterior approximation\")\n",
    "plt.xlim(-3, 3)\n",
    "plt.xlabel(\"theta\")\n",
    "plt.ylabel(\"Density\")\n",
    "plt.ylim(0, 1)\n",
    "\n",
    "# plot prior\n",
    "theta = np.linspace(-3, 3, 60)\n",
    "y = prior.pdf(theta)\n",
    "plt.plot(theta, y, 'b-.', label='Prior')\n",
    "\n",
    "# plot likelihood\n",
    "y = likelihood.pdf(x=data, theta=theta)\n",
    "plt.plot(theta, y, 'r-.', label='Likelihood')\n",
    "\n",
    "# plot posterior\n",
    "y = np.squeeze(np.array([gt_posterior_pdf(th) for th in theta]))\n",
    "plt.plot(theta, y, 'g-.', label=\"True Posterior\")\n",
    "\n",
    "# plot ROMC posterior\n",
    "y = [romc.eval_posterior(np.array([[th]])) for th in theta]\n",
    "tmp = np.squeeze(np.array(y))\n",
    "plt.plot(theta, tmp, 'k-.o', label=\"ROMC Posterior\")\n",
    "\n",
    "plt.legend()\n",
    "plt.show(block=False)"
   ]
  },
  {
   "cell_type": "code",
   "execution_count": 27,
   "metadata": {},
   "outputs": [
    {
     "name": "stdout",
     "output_type": "stream",
     "text": [
      "### Getting Samples from the posterior ###\n",
      "\n",
      "Time: 39.895 sec ====================================================================================-] 100.0% \n",
      "\n"
     ]
    }
   ],
   "source": [
    "n2 = 300\n",
    "tmp = romc.sample(n2=n2)"
   ]
  },
  {
   "cell_type": "code",
   "execution_count": 28,
   "metadata": {},
   "outputs": [
    {
     "name": "stderr",
     "output_type": "stream",
     "text": [
      " /home/givasile/miniconda3/envs/elfi3.7/lib/python3.7/site-packages/numpy/core/_asarray.py:83: VisibleDeprecationWarning:Creating an ndarray from ragged nested sequences (which is a list-or-tuple of lists-or-tuples-or ndarrays with different lengths or shapes) is deprecated. If you meant to do this, you must specify 'dtype=object' when creating the ndarray\n"
     ]
    },
    {
     "data": {
      "image/png": "[encoded data removed]",
      "text/plain": [
       "<Figure size 432x288 with 1 Axes>"
      ]
     },
     "metadata": {
      "needs_background": "light"
     },
     "output_type": "display_data"
    }
   ],
   "source": [
    "# As before but now it plots the samples as well\n",
    "romc.visualize_region(2)"
   ]
  },
  {
   "cell_type": "code",
   "execution_count": 29,
   "metadata": {},
   "outputs": [
    {
     "name": "stdout",
     "output_type": "stream",
     "text": [
      "Expected mean    : -0.032, ground-truth: 0.000\n",
      "Expected variance: 1.091, ground-truth: 1.100\n"
     ]
    }
   ],
   "source": [
    "# compute expectation\n",
    "print(\"Expected mean    : %.3f, ground-truth: %.3f\" % (romc.compute_expectation(h = lambda x: np.squeeze(x)), gt_posterior_mean))\n",
    "print(\"Expected variance: %.3f, ground-truth: %.3f\" % (romc.compute_expectation(h =lambda x: np.squeeze(x)**2), gt_posterior_var))"
   ]
  },
  {
   "cell_type": "markdown",
   "metadata": {},
   "source": [
    "## Evaluation of the inference"
   ]
  },
  {
   "cell_type": "code",
   "execution_count": 30,
   "metadata": {},
   "outputs": [
    {
     "name": "stdout",
     "output_type": "stream",
     "text": [
      "Time: 0.501 sec \n",
      "\n",
      "Divergence from ground-truth, using Jensen-Shannon distance: 0.072\n"
     ]
    }
   ],
   "source": [
    "# compute divergence\n",
    "def wrapper(x):\n",
    "    \"\"\"gt_posterior_pdf with batching.\n",
    "    \"\"\"\n",
    "    res = []\n",
    "    for i in range(x.shape[0]):\n",
    "        tmp = x[i]\n",
    "        res.append(gt_posterior_pdf(float(tmp)))\n",
    "    return np.array(res)\n",
    "\n",
    "print(\"Divergence from ground-truth, using Jensen-Shannon distance: %.3f\" % romc.compute_divergence(wrapper, distance=\"Jensen-Shannon\"))"
   ]
  },
  {
   "cell_type": "code",
   "execution_count": 31,
   "metadata": {},
   "outputs": [
    {
     "name": "stdout",
     "output_type": "stream",
     "text": [
      "Nof Samples: 22500, ESS: 3724.954\n"
     ]
    }
   ],
   "source": [
    "# compute ESS\n",
    "print(\"Nof Samples: %d, ESS: %.3f\" % (len(romc.result.weights), romc.compute_ess()))"
   ]
  },
  {
   "cell_type": "code",
   "execution_count": 32,
   "metadata": {},
   "outputs": [
    {
     "name": "stdout",
     "output_type": "stream",
     "text": [
      "Time: 0.010 sec \n",
      "\n",
      "Time: 0.010 sec \n",
      "\n",
      "Time: 0.011 sec \n",
      "\n",
      "Time: 0.010 sec \n",
      "\n",
      "Time: 0.010 sec \n",
      "\n",
      "Time: 0.010 sec \n",
      "\n",
      "Time: 0.010 sec \n",
      "\n",
      "Time: 0.011 sec \n",
      "\n",
      "Time: 0.010 sec \n",
      "\n",
      "Time: 0.010 sec \n",
      "\n",
      "Time: 0.011 sec \n",
      "\n",
      "Time: 0.010 sec \n",
      "\n",
      "Time: 0.012 sec \n",
      "\n",
      "Time: 0.011 sec \n",
      "\n",
      "Time: 0.010 sec \n",
      "\n",
      "Time: 0.011 sec \n",
      "\n",
      "Time: 0.010 sec \n",
      "\n",
      "Time: 0.011 sec \n",
      "\n",
      "Time: 0.010 sec \n",
      "\n",
      "Time: 0.010 sec \n",
      "\n",
      "Time: 0.010 sec \n",
      "\n",
      "Time: 0.011 sec \n",
      "\n",
      "Time: 0.010 sec \n",
      "\n",
      "Time: 0.011 sec \n",
      "\n",
      "Time: 0.010 sec \n",
      "\n",
      "Time: 0.010 sec \n",
      "\n",
      "Time: 0.010 sec \n",
      "\n",
      "Time: 0.010 sec \n",
      "\n",
      "Time: 0.010 sec \n",
      "\n",
      "Time: 0.010 sec \n",
      "\n",
      "Time: 0.010 sec \n",
      "\n",
      "Time: 0.011 sec \n",
      "\n",
      "Time: 0.010 sec \n",
      "\n",
      "Time: 0.010 sec \n",
      "\n",
      "Time: 0.010 sec \n",
      "\n",
      "Time: 0.010 sec \n",
      "\n",
      "Time: 0.010 sec \n",
      "\n",
      "Time: 0.010 sec \n",
      "\n",
      "Time: 0.010 sec \n",
      "\n",
      "Time: 0.011 sec \n",
      "\n",
      "Time: 0.010 sec \n",
      "\n",
      "Time: 0.011 sec \n",
      "\n",
      "Time: 0.010 sec \n",
      "\n",
      "Time: 0.010 sec \n",
      "\n",
      "Time: 0.010 sec \n",
      "\n",
      "Time: 0.010 sec \n",
      "\n",
      "Time: 0.010 sec \n",
      "\n",
      "Time: 0.010 sec \n",
      "\n",
      "Time: 0.010 sec \n",
      "\n",
      "Time: 0.010 sec \n",
      "\n",
      "Time: 0.010 sec \n",
      "\n",
      "Time: 0.010 sec \n",
      "\n",
      "Time: 0.010 sec \n",
      "\n",
      "Time: 0.010 sec \n",
      "\n",
      "Time: 0.010 sec \n",
      "\n",
      "Time: 0.010 sec \n",
      "\n",
      "Time: 0.011 sec \n",
      "\n",
      "Time: 0.011 sec \n",
      "\n",
      "Time: 0.010 sec \n",
      "\n",
      "Time: 0.010 sec \n",
      "\n"
     ]
    },
    {
     "data": {
      "image/png": "[encoded data removed]",
      "text/plain": [
       "<Figure size 432x288 with 1 Axes>"
      ]
     },
     "metadata": {
      "needs_background": "light"
     },
     "output_type": "display_data"
    }
   ],
   "source": [
    "# plot histogram of samples\n",
    "plt.figure()\n",
    "plt.title(\"Histogram of samples drawn from the posterior\")\n",
    "plt.hist(romc.result.samples_array, weights=romc.result.weights, bins=70, density=True, range=(-3,3), label=\"Histogram of samples\")\n",
    "\n",
    "theta = np.linspace(-3, 3, 60)\n",
    "y = np.squeeze(np.array([gt_posterior_pdf(th) for th in theta]))\n",
    "plt.plot(theta, y, 'r-o', label=\"True Posterior\")\n",
    "\n",
    "y = [romc.eval_posterior(np.array([[th]])) for th in theta]\n",
    "tmp = np.squeeze(np.array(y))\n",
    "plt.plot(theta, tmp, 'k-.o', label=\"ROMC posterior approximation\")\n",
    "\n",
    "plt.ylim([0, .6])\n",
    "plt.xlabel('theta')\n",
    "plt.ylabel('density')\n",
    "plt.legend()\n",
    "plt.show()"
   ]
  },
  {
   "cell_type": "code",
   "execution_count": null,
   "metadata": {},
   "outputs": [],
   "source": []
  }
 ],
 "metadata": {
  "kernelspec": {
   "display_name": "Python 3",
   "language": "python",
   "name": "python3"
  },
  "language_info": {
   "codemirror_mode": {
    "name": "ipython",
    "version": 3
   },
   "file_extension": ".py",
   "mimetype": "text/x-python",
   "name": "python",
   "nbconvert_exporter": "python",
   "pygments_lexer": "ipython3",
   "version": "3.7.9"
  }
 },
 "nbformat": 4,
 "nbformat_minor": 4
}
