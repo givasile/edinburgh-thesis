{
 "cells": [
  {
   "cell_type": "code",
   "execution_count": 1,
   "metadata": {},
   "outputs": [
    {
     "name": "stderr",
     "output_type": "stream",
     "text": [
      "INFO:root:Generating grammar tables from /usr/lib/python3.7/lib2to3/Grammar.txt\n",
      "INFO:root:Generating grammar tables from /usr/lib/python3.7/lib2to3/PatternGrammar.txt\n"
     ]
    },
    {
     "data": {
      "text/plain": [
       "[('A', 'GNK'),\n",
       " ('_A_8060', 'A'),\n",
       " ('_A_c5a2', 'A'),\n",
       " ('B', 'GNK'),\n",
       " ('_B_0d5f', 'B'),\n",
       " ('_B_ed27', 'B'),\n",
       " ('g', 'GNK'),\n",
       " ('_g_0bc0', 'g'),\n",
       " ('_g_5d05', 'g'),\n",
       " ('k', 'GNK'),\n",
       " ('_k_dcd4', 'k'),\n",
       " ('_k_c595', 'k'),\n",
       " ('GNK', 'ss_order'),\n",
       " ('ss_order', 'd')]"
      ]
     },
     "execution_count": 1,
     "metadata": {},
     "output_type": "execute_result"
    }
   ],
   "source": [
    "import numpy as np\n",
    "import scipy.stats\n",
    "import matplotlib\n",
    "import matplotlib.pyplot as plt\n",
    "\n",
    "%matplotlib inline\n",
    "%precision 2\n",
    "\n",
    "import logging\n",
    "logging.basicConfig(level=logging.INFO)\n",
    "\n",
    "# Set an arbitrary global seed to keep the randomly generated quantities the same\n",
    "seed = 1\n",
    "np.random.seed(seed)\n",
    "\n",
    "import elfi\n",
    "from elfi.examples import gnk\n",
    "from elfi.methods.parameter_inference import ROMC\n",
    "model = gnk.get_model()\n",
    "model.source_net.edges()"
   ]
  },
  {
   "cell_type": "code",
   "execution_count": 2,
   "metadata": {},
   "outputs": [
    {
     "name": "stdout",
     "output_type": "stream",
     "text": [
      "['A', 'B', 'g', 'k']\n"
     ]
    },
    {
     "data": {
      "image/png": "[encoded data removed]",
      "text/plain": [
       "<Figure size 432x288 with 1 Axes>"
      ]
     },
     "metadata": {
      "needs_background": "light"
     },
     "output_type": "display_data"
    }
   ],
   "source": [
    "x = model.generate(100)\n",
    "print(model.parameter_names)\n",
    "\n",
    "plt.plot(x[\"A\"], x[\"B\"], \"bo\")\n",
    "plt.show()"
   ]
  },
  {
   "cell_type": "code",
   "execution_count": 3,
   "metadata": {},
   "outputs": [],
   "source": [
    "romc = ROMC(model, discrepancy_name=\"d\", left_lim=np.array([0., 0., 0., 0.]), right_lim =np.array([10, 10,  10, 10]))"
   ]
  },
  {
   "cell_type": "code",
   "execution_count": 4,
   "metadata": {},
   "outputs": [
    {
     "name": "stdout",
     "output_type": "stream",
     "text": [
      "### Solving problems ###\n",
      "Progress: |████████████████████████████████████████----------| 80.0% Complete\r"
     ]
    },
    {
     "name": "stderr",
     "output_type": "stream",
     "text": [
      " /home/givasile/ORwDS/elfi/elfi/examples/gnk.py:64: RuntimeWarning:overflow encountered in exp\n",
      " /home/givasile/ORwDS/elfi/elfi/examples/gnk.py:64: RuntimeWarning:invalid value encountered in true_divide\n",
      " /home/givasile/ORwDS/elfi/elfi/examples/gnk.py:137: RuntimeWarning:overflow encountered in square\n",
      " /home/givasile/ORwDS/elfi/elfi/examples/gnk.py:64: RuntimeWarning:overflow encountered in power\n"
     ]
    },
    {
     "name": "stdout",
     "output_type": "stream",
     "text": [
      "Time: 8.832 sec███████████████████████████████████████████---| 95.0% Complete\n"
     ]
    }
   ],
   "source": [
    "n1 = 20\n",
    "seed = 21\n",
    "romc.solve_problems(n1=n1, seed=seed)"
   ]
  },
  {
   "cell_type": "code",
   "execution_count": 5,
   "metadata": {},
   "outputs": [
    {
     "data": {
      "image/png": "[encoded data removed]",
      "text/plain": [
       "<Figure size 432x288 with 1 Axes>"
      ]
     },
     "metadata": {
      "needs_background": "light"
     },
     "output_type": "display_data"
    }
   ],
   "source": [
    "romc.theta_hist()"
   ]
  },
  {
   "cell_type": "code",
   "execution_count": 6,
   "metadata": {},
   "outputs": [
    {
     "name": "stdout",
     "output_type": "stream",
     "text": [
      "### Estimating regions ###\n",
      "\n",
      "Time: 119.388 sec ████████████████████████████████████████---| 95.0% Complete\n",
      "\n"
     ]
    }
   ],
   "source": [
    "eps = 440\n",
    "region_mode = \"romc_jacobian\"\n",
    "romc.estimate_regions(eps=eps, region_mode=region_mode)"
   ]
  },
  {
   "cell_type": "code",
   "execution_count": 7,
   "metadata": {},
   "outputs": [
    {
     "data": {
      "text/plain": [
       "[False,\n",
       " True,\n",
       " True,\n",
       " True,\n",
       " True,\n",
       " True,\n",
       " True,\n",
       " True,\n",
       " True,\n",
       " True,\n",
       " True,\n",
       " True,\n",
       " True,\n",
       " True,\n",
       " False,\n",
       " True,\n",
       " True,\n",
       " True,\n",
       " True,\n",
       " True]"
      ]
     },
     "execution_count": 7,
     "metadata": {},
     "output_type": "execute_result"
    }
   ],
   "source": [
    "romc.accepted"
   ]
  },
  {
   "cell_type": "code",
   "execution_count": 8,
   "metadata": {},
   "outputs": [
    {
     "name": "stdout",
     "output_type": "stream",
     "text": [
      "### Getting Samples from the posterior ###\n",
      "\n",
      "Time: 0.894 sec ████████████████████████████████████████████-| 99.9% Complete\n",
      "\n"
     ]
    }
   ],
   "source": [
    "n2 = 40\n",
    "tmp = romc.sample(n2=n2)"
   ]
  },
  {
   "cell_type": "code",
   "execution_count": 9,
   "metadata": {},
   "outputs": [
    {
     "data": {
      "text/plain": [
       "array([<matplotlib.axes._subplots.AxesSubplot object at 0x7f9b13b27828>,\n",
       "       <matplotlib.axes._subplots.AxesSubplot object at 0x7f9b13ae9940>,\n",
       "       <matplotlib.axes._subplots.AxesSubplot object at 0x7f9b13a9cb70>,\n",
       "       <matplotlib.axes._subplots.AxesSubplot object at 0x7f9b13a4fda0>],\n",
       "      dtype=object)"
      ]
     },
     "execution_count": 9,
     "metadata": {},
     "output_type": "execute_result"
    },
    {
     "data": {
      "image/png": "[encoded data removed]",
      "text/plain": [
       "<Figure size 1152x288 with 4 Axes>"
      ]
     },
     "metadata": {
      "needs_background": "light"
     },
     "output_type": "display_data"
    }
   ],
   "source": [
    "romc.result.plot_marginals(weights=romc.result.weights)"
   ]
  },
  {
   "cell_type": "code",
   "execution_count": 10,
   "metadata": {},
   "outputs": [
    {
     "data": {
      "text/plain": [
       "array([[-8.97e+00, -2.10e+00, -1.15e+01, -1.15e+01,  6.18e-01, -7.13e+00,\n",
       "        -8.30e+00, -7.01e+00, -1.01e+00, -7.39e+00, -7.29e+00, -2.79e+00,\n",
       "        -5.24e+00, -8.52e+00, -5.12e+00, -9.98e+00, -5.50e+00, -9.09e-01,\n",
       "        -8.22e+00, -1.49e+01, -9.65e+00, -2.45e+00, -1.23e+01, -2.82e+00,\n",
       "        -2.50e+00,  1.43e-01, -6.13e+00, -4.06e+00, -2.75e+00, -6.63e+00,\n",
       "        -5.02e+00, -7.62e+00, -9.90e+00, -6.99e+00, -9.06e+00, -5.11e+00,\n",
       "        -9.87e+00, -6.00e+00, -3.69e+00, -5.73e+00],\n",
       "       [-9.55e+01, -4.95e+01, -5.42e+01, -3.63e+01, -7.61e+01, -4.20e+01,\n",
       "        -5.97e+01, -5.42e+01, -1.60e+01, -6.38e+01, -2.27e+01, -3.72e+01,\n",
       "        -2.86e+01, -2.01e+01, -6.80e+01, -1.42e+01, -5.12e+01, -4.80e+01,\n",
       "        -9.89e+01, -3.47e+01, -8.92e+01, -8.21e+01, -9.05e+01, -2.31e+01,\n",
       "        -6.75e+01, -5.15e+01, -1.02e+02, -4.57e+01, -5.68e+01, -2.58e+01,\n",
       "        -7.34e+01, -4.57e+01, -8.31e+01, -4.59e+01, -6.44e+01, -2.65e+01,\n",
       "        -5.87e+01, -7.00e+01, -3.41e+01, -6.59e+01],\n",
       "       [ 5.04e+00,  8.86e-02, -1.13e+01, -2.79e+00, -1.50e+00, -1.16e+00,\n",
       "        -9.60e+00, -5.02e+00,  3.94e+00, -3.09e+00,  2.49e+00, -6.44e+00,\n",
       "         2.64e+00,  3.26e+00, -7.47e+00, -1.40e+00, -1.23e+01, -4.24e+00,\n",
       "        -8.50e+00, -1.03e+01, -9.11e+00,  9.50e-01, -6.56e+00,  4.45e+00,\n",
       "        -8.26e+00,  1.67e+00, -1.12e+01, -1.17e+01, -5.13e+00,  3.02e+00,\n",
       "        -6.91e+00, -1.12e+00, -2.64e+00,  6.14e-01, -8.97e+00, -3.17e+00,\n",
       "        -9.55e+00, -8.84e+00, -3.45e+00, -9.96e-01],\n",
       "       [-9.97e+01, -8.98e+01, -9.99e+01, -6.71e+01, -1.26e+02, -9.60e+01,\n",
       "        -1.04e+02, -9.84e+01, -5.95e+01, -1.06e+02, -6.91e+01, -1.26e+02,\n",
       "        -1.77e+01, -5.58e+01, -5.13e+01, -1.93e+01, -9.46e+01, -8.78e+01,\n",
       "        -5.12e+01, -2.70e+01, -1.32e+01, -9.63e+01, -5.99e+01, -2.07e+01,\n",
       "        -1.17e+02, -6.47e+01, -3.40e+01, -4.69e+01, -1.02e+02, -1.02e+02,\n",
       "        -3.68e+01, -1.33e+02, -1.07e+02, -5.52e+01, -4.42e+01, -5.96e+01,\n",
       "        -1.74e+01, -1.04e+02, -7.96e+01, -7.80e+01],\n",
       "       [-5.32e+01, -1.14e+01, -4.37e+01, -3.19e+01, -2.07e+01, -8.06e+00,\n",
       "        -3.58e+01, -1.49e+01, -2.94e+01, -5.44e+00, -1.33e+00, -3.38e+01,\n",
       "        -3.68e+01, -2.51e+01, -4.71e+01, -1.85e+01, -1.70e+01, -2.39e+01,\n",
       "        -2.66e+01, -4.19e+01, -3.01e+01, -3.63e+01, -2.67e+01, -3.23e+01,\n",
       "        -4.88e+00, -1.54e+01, -2.45e+01, -1.85e+01, -2.83e+01, -3.81e+01,\n",
       "        -1.16e+01, -2.72e+00, -3.71e+01, -1.99e+01, -1.31e+01, -1.19e+01,\n",
       "        -3.75e+01, -3.99e+01, -1.34e+01, -2.85e+01],\n",
       "       [-1.15e+01, -8.55e+01, -4.45e+01, -5.10e+01, -6.11e+01, -5.52e+01,\n",
       "        -8.44e+01, -9.09e+01, -7.04e+01, -2.65e+01, -6.93e+01, -1.88e+01,\n",
       "        -7.23e+01, -6.46e+01, -8.56e+01, -3.75e+01, -5.81e+01, -3.15e+01,\n",
       "        -4.65e+01, -7.52e+01, -7.44e+01, -4.99e+01, -1.08e+02, -1.14e+02,\n",
       "        -5.11e+01, -4.92e+01, -9.40e+01, -1.32e+02, -7.33e+01, -9.86e+01,\n",
       "        -6.92e+01, -5.59e+01, -5.03e+01, -5.26e+01, -7.55e+01, -3.88e+01,\n",
       "        -4.71e+01, -1.02e+02, -1.19e+02, -9.03e+01],\n",
       "       [-1.31e+02, -6.11e+01, -1.07e+02, -2.42e+01, -7.29e+01, -4.02e+01,\n",
       "        -9.43e+01, -9.25e+01, -6.88e+01, -3.64e+01, -3.39e+01, -6.42e+01,\n",
       "        -8.51e+01, -5.07e+01, -5.18e+01, -1.05e+02, -4.98e+01, -1.09e+02,\n",
       "        -2.17e+01, -1.10e+02, -8.82e+01, -4.86e+01, -7.76e+01, -3.14e+01,\n",
       "        -1.04e+02, -1.08e+02, -1.01e+01, -2.10e+01, -1.25e+02, -4.80e+01,\n",
       "        -5.59e+01, -7.02e+01, -7.04e+01, -9.70e+01, -9.99e+01, -8.23e+01,\n",
       "        -6.87e+01, -4.67e+01, -9.75e+01, -3.69e+01],\n",
       "       [-1.00e+01, -1.27e+01, -4.52e+00, -1.63e+01, -1.60e+01, -1.39e+01,\n",
       "        -6.84e+00,  1.63e-01, -1.39e+01, -5.41e+00, -3.30e+00, -7.23e+00,\n",
       "        -4.81e+00, -3.61e+00, -9.11e+00, -1.27e+01, -1.90e+01, -4.87e+00,\n",
       "        -1.83e+01,  6.81e-01, -1.07e+01, -2.23e+01, -1.27e+01, -1.71e+01,\n",
       "        -2.17e+01, -6.41e+00, -1.51e+01, -3.57e+00, -5.25e+00, -2.18e+01,\n",
       "        -6.44e+00, -1.79e+01, -5.40e+00, -1.75e+01, -1.37e+01, -2.12e+00,\n",
       "        -7.28e+00, -2.07e+01, -1.93e+01, -2.21e+01],\n",
       "       [-8.02e+00, -7.16e+00, -4.42e+00,  5.18e+00, -2.38e+01, -2.62e+01,\n",
       "        -4.10e+00, -2.28e+01, -4.03e+01, -3.67e+01, -1.39e+01, -1.89e+01,\n",
       "        -3.09e+01, -2.35e+01, -3.36e+01, -4.47e+01, -7.58e-01, -3.55e+01,\n",
       "        -9.69e+00, -2.27e+01, -2.44e+00, -3.28e+01, -4.64e+01, -3.81e+01,\n",
       "        -2.59e+01, -1.87e+01, -2.05e+01, -4.37e+01,  3.45e-01, -2.43e+01,\n",
       "        -2.70e+01, -4.24e+01, -6.01e+00, -3.11e+01, -1.06e+01, -1.14e+01,\n",
       "         4.71e+00, -9.39e+00, -9.12e+00,  7.62e+00],\n",
       "       [-6.67e+01, -3.62e+01, -4.56e+00, -1.07e+02, -5.38e+01, -1.91e+01,\n",
       "        -9.33e+01, -4.21e+01, -6.74e+01, -7.49e+01, -3.14e+01, -4.84e+01,\n",
       "        -5.17e+01, -5.44e+01, -1.19e+02, -2.09e+01, -8.03e+01, -7.30e+01,\n",
       "        -3.55e+01, -9.32e+01, -6.27e+01, -3.55e+01, -6.99e+01, -5.05e+01,\n",
       "        -9.66e+01, -5.82e+01, -4.58e+01, -7.19e+01, -1.22e+01, -4.14e+01,\n",
       "        -9.21e+00, -1.10e+02, -9.22e+01, -3.54e+01, -4.96e+01, -8.61e+01,\n",
       "         2.33e+00, -9.43e+01, -3.83e+01, -6.14e+01],\n",
       "       [-6.18e+01, -7.88e+01, -5.56e+01,  1.02e+01, -3.57e+01, -1.44e+02,\n",
       "        -1.12e+01, -1.44e+02, -1.56e+02, -1.31e+01, -8.90e+01, -6.40e+01,\n",
       "        -1.33e+02, -1.96e+01, -7.75e+01, -1.24e+02, -5.35e+01, -9.55e+01,\n",
       "        -7.27e+01, -1.12e+02, -7.65e+01, -6.84e+01, -4.45e+01, -1.15e+02,\n",
       "         1.48e+00, -3.83e+01, -5.99e+01, -9.05e+01, -3.51e+01, -3.12e+01,\n",
       "        -6.57e+01, -8.41e+01, -7.27e+01,  1.10e+01, -6.63e+01, -7.55e+01,\n",
       "        -3.44e+01, -6.69e+01, -1.29e+02, -8.64e+01],\n",
       "       [-4.43e+01, -2.96e+01, -3.47e+01, -1.59e+01, -5.05e+01, -3.42e+01,\n",
       "        -2.31e+01, -3.01e+00, -6.51e+00, -2.48e+01, -2.36e-01, -1.67e+01,\n",
       "        -1.38e+01, -1.13e+01, -1.09e+01, -4.74e+01, -2.42e+01, -3.01e+01,\n",
       "        -3.21e+01, -5.76e+00, -3.40e+00, -5.43e+01, -1.43e+01, -9.27e+00,\n",
       "        -2.25e+00, -4.78e+01, -1.03e+01, -8.57e+00, -2.01e+01, -1.08e+01,\n",
       "        -2.53e+01, -3.16e+01, -4.69e+01, -3.31e+01, -5.14e+01, -2.86e+01,\n",
       "        -3.43e+01, -2.42e+01, -5.13e+01, -3.77e+01],\n",
       "       [-2.51e+01, -6.86e+00, -2.80e+01, -3.56e+01, -5.95e+01, -4.35e+01,\n",
       "        -4.87e+01, -6.25e+01, -2.75e+01, -6.08e+01, -3.65e+01, -7.11e+01,\n",
       "        -6.48e+01, -5.80e+01, -3.30e+01, -1.39e+01, -3.79e+01, -3.75e+01,\n",
       "        -4.28e+01, -6.30e+01, -9.69e+01, -8.78e+01, -2.05e+01, -9.17e+01,\n",
       "        -3.49e+01, -7.35e+01, -2.16e+00, -1.50e+01, -9.40e+01, -4.79e+01,\n",
       "        -5.50e+01, -5.90e+01, -4.45e+01, -4.39e+01, -2.77e+01, -2.48e+01,\n",
       "        -5.90e+01, -5.54e+01, -9.92e+01, -1.06e+02],\n",
       "       [-6.55e+01, -2.84e+01, -9.03e+01, -5.37e+01, -4.80e+01, -4.74e+01,\n",
       "        -2.20e+01, -3.66e+01, -8.30e+00, -8.54e+01, -8.77e+01, -9.45e+01,\n",
       "        -1.04e+02, -3.25e+01, -7.19e+01, -9.64e+01, -7.46e+01, -8.27e+01,\n",
       "        -8.61e+01, -7.58e+01, -9.65e+01, -4.96e+01, -2.84e+01, -6.51e+01,\n",
       "        -7.83e+00, -3.66e+01, -2.27e+01, -1.10e+01, -2.85e+01, -2.87e+01,\n",
       "        -1.06e+02, -8.16e+01, -6.95e+01, -6.30e+01, -6.53e+01, -9.13e+01,\n",
       "        -6.26e+01, -1.02e+02, -8.03e+01, -3.75e+01],\n",
       "       [-1.30e+02, -4.22e+01, -1.23e+02, -4.28e+01, -1.43e+02, -1.96e+02,\n",
       "        -1.34e+02, -5.36e+01, -8.72e+01, -5.49e+01, -1.62e+02, -7.58e+01,\n",
       "        -9.83e+01, -1.69e+02, -9.53e+01, -8.59e+01, -9.37e+01,  6.31e+01,\n",
       "         2.66e+01, -1.22e+02, -1.69e+02, -1.03e+02, -1.34e+02, -1.04e+01,\n",
       "        -1.36e+02, -1.32e+02, -7.38e+01, -2.38e+01, -2.60e+01, -7.59e+01,\n",
       "        -1.15e+02,  3.03e+00, -3.47e+01, -5.86e+01, -1.52e+02, -1.05e+02,\n",
       "        -1.34e+02, -1.80e+02,  3.69e+01, -7.70e+01],\n",
       "       [-9.59e+01, -2.53e+01, -8.65e+01, -7.82e+01, -2.65e+01, -2.95e+01,\n",
       "        -2.81e+01, -6.29e+00, -1.97e+01, -8.95e+01, -5.59e+01, -7.56e+01,\n",
       "        -1.74e+01, -8.69e+01, -9.08e+01, -1.08e+01, -5.16e+01, -7.17e+01,\n",
       "        -6.23e+01, -9.04e+01, -1.30e+01, -2.16e+01, -7.51e+01, -6.73e+01,\n",
       "        -8.22e+01, -4.89e+01, -2.34e+00, -4.13e+01, -3.94e+01, -3.69e+01,\n",
       "        -7.76e+01, -7.40e+01, -4.83e+01, -5.24e+01, -6.83e+01, -2.25e+01,\n",
       "        -7.16e+01, -2.06e+01, -8.66e+01, -1.55e+01],\n",
       "       [-7.31e+01, -1.08e+02, -9.74e+01, -1.06e+02, -4.43e+01, -3.55e+01,\n",
       "        -4.42e+01, -6.92e+01, -2.55e+01, -2.84e+01, -1.06e+02, -9.06e+01,\n",
       "        -3.37e+01, -7.12e+01, -3.55e+01, -7.31e+01, -2.04e+01, -8.16e+01,\n",
       "        -2.70e+01, -9.64e+01, -4.68e+01, -9.11e+01, -1.77e+01, -8.82e+01,\n",
       "        -4.15e+01, -5.47e+01, -8.83e+00, -3.21e+00, -8.94e+01, -9.55e+01,\n",
       "        -4.57e+01, -8.37e+01, -9.90e+01, -7.18e+01, -1.12e+02, -5.33e+01,\n",
       "        -6.79e+01, -5.88e+01, -1.70e+01, -4.31e+01],\n",
       "       [-5.53e+01, -1.40e+02, -5.16e+01, -1.30e+02, -2.73e+01, -6.64e+01,\n",
       "        -4.57e+01, -1.52e+01, -2.84e+01,  1.11e+01, -3.17e+01, -1.52e+02,\n",
       "        -3.40e+01, -9.53e+01, -5.16e+01, -6.68e+01, -6.42e+01, -2.76e+01,\n",
       "        -1.11e+02, -1.23e+02, -8.29e+01, -1.08e+01, -1.10e+02, -1.04e+02,\n",
       "        -1.10e+02, -1.19e+02, -8.37e+01, -2.14e+01, -6.31e+01, -1.02e+02,\n",
       "        -1.97e+01, -4.68e+01, -1.16e+01, -9.95e+01, -6.81e+01, -7.39e+00,\n",
       "        -2.84e+01, -3.98e+01, -5.51e+01, -5.57e+01]])"
      ]
     },
     "execution_count": 10,
     "metadata": {},
     "output_type": "execute_result"
    }
   ],
   "source": [
    "romc.samples[:,:,3]"
   ]
  }
 ],
 "metadata": {
  "kernelspec": {
   "display_name": "Python 3",
   "language": "python",
   "name": "python3"
  },
  "language_info": {
   "codemirror_mode": {
    "name": "ipython",
    "version": 3
   },
   "file_extension": ".py",
   "mimetype": "text/x-python",
   "name": "python",
   "nbconvert_exporter": "python",
   "pygments_lexer": "ipython3",
   "version": "3.7.3"
  }
 },
 "nbformat": 4,
 "nbformat_minor": 4
}
