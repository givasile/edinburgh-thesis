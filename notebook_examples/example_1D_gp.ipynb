{
 "cells": [
  {
   "cell_type": "markdown",
   "metadata": {},
   "source": [
    "This presentation is meant to illustrate the functionalities provided by the ROMC inference method using Gaussian Processes."
   ]
  },
  {
   "cell_type": "code",
   "execution_count": 1,
   "metadata": {},
   "outputs": [],
   "source": [
    "import timeit\n",
    "import matplotlib.pyplot as plt\n",
    "import numpy as np\n",
    "import scipy.integrate as integrate\n",
    "import scipy.stats as ss\n",
    "import elfi\n",
    "\n",
    "np.random.seed(21)"
   ]
  },
  {
   "cell_type": "code",
   "execution_count": 2,
   "metadata": {},
   "outputs": [],
   "source": [
    "class Prior:\n",
    "    def rvs(self, size=None, random_state=None):\n",
    "        # size from (BS,) -> (BS,1)\n",
    "        if size is not None:\n",
    "            size = np.concatenate((size, [1]))\n",
    "        return ss.uniform(loc=-2.5, scale=5).rvs(size=size, random_state=random_state)\n",
    "\n",
    "    def pdf(self, theta):\n",
    "        return ss.uniform(loc=-2.5, scale=5).pdf(theta)\n",
    "\n",
    "    def logpdf(self, theta):\n",
    "        return ss.uniform(loc=-2.5, scale=5).logpdf(theta)"
   ]
  },
  {
   "cell_type": "code",
   "execution_count": 3,
   "metadata": {},
   "outputs": [],
   "source": [
    "class Likelihood:\n",
    "    r\"\"\"Implements the distribution\n",
    "    P(x|theta) = N(x; theta^4, 1)         if theta in [-0.5, 0.5]\n",
    "                 N(x; theta + 0.5 + 0.5^4 if theta > 0.5\n",
    "                 N(x; theta - 0.5 + 0.5^4 if theta < 0.5\n",
    "    \"\"\"\n",
    "\n",
    "    def rvs(self, theta, seed=None):\n",
    "        \"\"\"Vectorized sampling from likelihood.\n",
    "\n",
    "        \"\"\"\n",
    "        assert isinstance(theta, np.ndarray)\n",
    "        theta = theta.astype(np.float)\n",
    "        samples = np.empty_like(theta)\n",
    "\n",
    "        c = 0.5 - 0.5 ** 4\n",
    "\n",
    "        tmp_theta = theta[theta <= -0.5]\n",
    "        samples[theta <= -0.5] = ss.norm(loc=-tmp_theta - c, scale=1).rvs(random_state=seed)\n",
    "        theta[theta <= -0.5] = np.inf\n",
    "\n",
    "        tmp_theta = theta[theta <= 0.5]\n",
    "        samples[theta <= 0.5] = ss.norm(loc=tmp_theta**4, scale=1).rvs(random_state=seed)\n",
    "        theta[theta <= 0.5] = np.inf\n",
    "\n",
    "        tmp_theta = theta[theta < np.inf]\n",
    "        samples[theta < np.inf] = ss.norm(loc=tmp_theta - c, scale=1).rvs(random_state=seed)\n",
    "        theta[theta < np.inf] = np.inf\n",
    "\n",
    "        assert np.allclose(theta, np.inf)\n",
    "        return samples\n",
    "\n",
    "    def pdf(self, x, theta):\n",
    "        \"\"\"Vectorised pdf evaluation.\n",
    "        \"\"\"\n",
    "        assert isinstance(x, np.ndarray)\n",
    "        assert isinstance(theta, np.ndarray)\n",
    "        assert theta.ndim == 1\n",
    "        assert x.ndim == 1\n",
    "\n",
    "        BS = theta.shape[0]\n",
    "        N = x.shape[0]\n",
    "        theta = theta.astype(np.float)\n",
    "\n",
    "        pdf_eval = np.zeros((BS))\n",
    "        c = 0.5 - 0.5 ** 4\n",
    "\n",
    "        def help_func(lim, mode):\n",
    "            tmp_theta = theta[theta <= lim]\n",
    "            tmp_theta = np.expand_dims(tmp_theta, -1)\n",
    "            scale = np.ones_like(tmp_theta)\n",
    "            if mode == 1:\n",
    "                pdf_eval[theta <= lim] = np.prod(ss.norm(loc=-tmp_theta - c, scale=scale).pdf(x), 1)\n",
    "            elif mode == 2:\n",
    "                pdf_eval[theta <= lim] = np.prod(ss.norm(loc=tmp_theta**4, scale=scale).pdf(x), 1)\n",
    "            elif mode == 3:\n",
    "                pdf_eval[theta <= lim] = np.prod(ss.norm(loc=tmp_theta - c, scale=scale).pdf(x), 1)\n",
    "            theta[theta <= lim] = np.inf\n",
    "\n",
    "        big_M = 10**7\n",
    "        help_func(lim=-0.5, mode=1)\n",
    "        help_func(lim=0.5, mode=2)\n",
    "        help_func(lim=big_M, mode=3)\n",
    "        assert np.allclose(theta, np.inf)\n",
    "        return pdf_eval"
   ]
  },
  {
   "cell_type": "code",
   "execution_count": 4,
   "metadata": {
    "pycharm": {
     "name": "#%%\n"
    }
   },
   "outputs": [],
   "source": [
    "def summary(x):\n",
    "    assert isinstance(x, np.ndarray)\n",
    "    if x.ndim == 1:\n",
    "        return x\n",
    "    elif x.ndim == 2:\n",
    "        return np.prod(x, 1)\n",
    "\n",
    "\n",
    "def create_factor(x):\n",
    "    \"\"\"Creates the function g(theta) = L(theta)*prior(theta).\n",
    "\n",
    "    \"\"\"\n",
    "    lik = Likelihood()\n",
    "    pr = Prior()\n",
    "    def tmp_func(theta):\n",
    "        return float(lik.pdf(x, np.array([theta])) * pr.pdf(theta))\n",
    "    return tmp_func\n",
    "\n",
    "\n",
    "def approximate_Z(func, a, b):\n",
    "    \"\"\"Approximates the partition function with exhaustive integration.\n",
    "    \"\"\"\n",
    "    return integrate.quad(func, a, b)[0]\n",
    "\n",
    "\n",
    "def create_gt_posterior(likelihood, prior, data, Z):\n",
    "    \"\"\"Returns a function that computes the gt posterior\n",
    "    \"\"\"\n",
    "    def tmp_func(theta):\n",
    "        return likelihood.pdf(data, np.array([theta])) * prior.pdf(np.array([theta])) / Z\n",
    "    return tmp_func"
   ]
  },
  {
   "cell_type": "code",
   "execution_count": 5,
   "metadata": {
    "pycharm": {
     "name": "#%%\n"
    }
   },
   "outputs": [],
   "source": [
    "data = np.array([0.])\n",
    "dim = data.shape[0]\n",
    "a = -2.5  # integration left limit\n",
    "b = 2.5   # integration right limit\n",
    "\n",
    "likelihood = Likelihood()\n",
    "prior = Prior()\n",
    "\n",
    "factor = create_factor(x=data)\n",
    "Z = approximate_Z(factor, a, b)\n",
    "gt_posterior_pdf = create_gt_posterior(likelihood, prior, data, Z)"
   ]
  },
  {
   "cell_type": "code",
   "execution_count": 6,
   "metadata": {
    "pycharm": {
     "name": "#%%\n"
    }
   },
   "outputs": [
    {
     "data": {
      "image/png": "[encoded data removed]",
      "text/plain": [
       "<Figure size 432x288 with 1 Axes>"
      ]
     },
     "metadata": {
      "needs_background": "light"
     },
     "output_type": "display_data"
    }
   ],
   "source": [
    "plt.figure()\n",
    "plt.title(\"Ground Truth posterior\")\n",
    "plt.xlim(-3, 3)\n",
    "plt.xlabel(\"theta\")\n",
    "plt.ylabel(\"PDF\")\n",
    "plt.ylim(0, 1)\n",
    "\n",
    "# plot prior\n",
    "theta = np.linspace(-3, 3, 60)\n",
    "y = prior.pdf(theta)\n",
    "plt.plot(theta, y, 'b-.', label='Prior')\n",
    "\n",
    "# plot likelihood\n",
    "y = likelihood.pdf(x=data, theta=theta)\n",
    "plt.plot(theta, y, 'r-.', label='Likelihood')\n",
    "\n",
    "# plot posterior\n",
    "y = np.squeeze(np.array([gt_posterior_pdf(th) for th in theta]))\n",
    "plt.plot(theta, y, 'g-.', label=\"True Posterior\")\n",
    "\n",
    "plt.legend()\n",
    "plt.show(block=False)"
   ]
  },
  {
   "cell_type": "code",
   "execution_count": 7,
   "metadata": {
    "pycharm": {
     "name": "#%%\n"
    }
   },
   "outputs": [],
   "source": [
    "def simulator(theta, dim, batch_size=10000, random_state=None):\n",
    "    likelihood = Likelihood()\n",
    "    theta = np.repeat(theta, dim, -1)\n",
    "    return likelihood.rvs(theta, seed=random_state)\n",
    "\n",
    "\n",
    "elfi.new_model(\"1D_example\")\n",
    "elfi_prior = elfi.Prior(Prior(), name=\"theta\")\n",
    "elfi_simulator = elfi.Simulator(simulator, elfi_prior, dim, observed=np.expand_dims(data, 0), name=\"simulator\")\n",
    "dist = elfi.Distance('euclidean', elfi_simulator, name=\"dist\")"
   ]
  },
  {
   "cell_type": "code",
   "execution_count": 8,
   "metadata": {
    "pycharm": {
     "name": "#%%\n"
    }
   },
   "outputs": [],
   "source": [
    "bounds = [(-2.5, 2.5)]\n",
    "dim = data.shape[-1]\n",
    "\n",
    "# Defines the ROMC inference method\n",
    "romc = elfi.ROMC(dist, bounds)"
   ]
  },
  {
   "cell_type": "code",
   "execution_count": 9,
   "metadata": {
    "pycharm": {
     "name": "#%%\n"
    }
   },
   "outputs": [
    {
     "name": "stdout",
     "output_type": "stream",
     "text": [
      "### Solving problems using Bayesian optimisation ###\n",
      "Progress: |██████████████████████████████████████████████████| 100.0% Complete\n",
      "Time: 14.149 sec\n",
      "Time: 14.149 sec\n"
     ]
    }
   ],
   "source": [
    "# Define n1 optimisation problems, fit one GP for each one and find the optimal point \n",
    "n1 = 5\n",
    "seed = 21\n",
    "use_gp = True\n",
    "romc.solve_problems(n1=n1, seed=seed, use_bo=True, optimizer_args={})"
   ]
  },
  {
   "cell_type": "code",
   "execution_count": 10,
   "metadata": {},
   "outputs": [
    {
     "data": {
      "image/png": "[encoded data removed]",
      "text/plain": [
       "<Figure size 432x288 with 1 Axes>"
      ]
     },
     "metadata": {
      "needs_background": "light"
     },
     "output_type": "display_data"
    }
   ],
   "source": [
    "# plots the disribution of optimal distances\n",
    "romc.distance_hist(bins=10)"
   ]
  },
  {
   "cell_type": "code",
   "execution_count": 11,
   "metadata": {},
   "outputs": [
    {
     "name": "stdout",
     "output_type": "stream",
     "text": [
      "Total solutions: 5, Accepted solutions after filtering: 4\n",
      "### Estimating regions ###\n",
      "\n",
      "Progress: |██████████████████████████████████████████████████| 100.0% Complete\n",
      "Time: 0.094 sec \n",
      "\n"
     ]
    }
   ],
   "source": [
    "eps = .5\n",
    "romc.estimate_regions(eps=eps, fit_models=False)"
   ]
  },
  {
   "cell_type": "code",
   "execution_count": 12,
   "metadata": {},
   "outputs": [
    {
     "data": {
      "image/png": "[encoded data removed]",
      "text/plain": [
       "<Figure size 432x288 with 1 Axes>"
      ]
     },
     "metadata": {
      "needs_background": "light"
     },
     "output_type": "display_data"
    }
   ],
   "source": [
    "tmp = romc.optim_problems[2]\n",
    "x = np.linspace(-5, 5, 100)\n",
    "y1 = [tmp.surrogate_objective(np.atleast_1d(ii)) for ii in x]\n",
    "y2 = [tmp.objective(np.atleast_1d(ii)) for ii in x]\n",
    "\n",
    "plt.figure()\n",
    "plt.plot(x, y1, \"r-o\")\n",
    "plt.plot(x, y2, \"b-o\")\n",
    "plt.show()"
   ]
  },
  {
   "cell_type": "code",
   "execution_count": 13,
   "metadata": {},
   "outputs": [
    {
     "data": {
      "image/png": "[encoded data removed]",
      "text/plain": [
       "<Figure size 432x288 with 1 Axes>"
      ]
     },
     "metadata": {
      "needs_background": "light"
     },
     "output_type": "display_data"
    }
   ],
   "source": [
    "romc.visualize_region(3)"
   ]
  },
  {
   "cell_type": "markdown",
   "metadata": {},
   "source": [
    "## Inference"
   ]
  },
  {
   "cell_type": "code",
   "execution_count": 14,
   "metadata": {},
   "outputs": [
    {
     "name": "stdout",
     "output_type": "stream",
     "text": [
      "Posterior evaluation: f(theta=2.000)=0.333\n"
     ]
    }
   ],
   "source": [
    "theta = np.array([[2.]])\n",
    "print(\"Posterior evaluation: f(theta=%.3f)=%.3f\" %(theta, romc.eval_posterior(theta=theta)))"
   ]
  },
  {
   "cell_type": "code",
   "execution_count": 15,
   "metadata": {},
   "outputs": [
    {
     "data": {
      "image/png": "[encoded data removed]",
      "text/plain": [
       "<Figure size 432x288 with 1 Axes>"
      ]
     },
     "metadata": {
      "needs_background": "light"
     },
     "output_type": "display_data"
    }
   ],
   "source": [
    "# make plot\n",
    "plt.figure()\n",
    "plt.title(\"Posteriors (Z=%.2f)\" % romc.romc_posterior.partition)\n",
    "plt.xlim(-3, 3)\n",
    "plt.xlabel(\"theta\")\n",
    "plt.ylabel(\"Density\")\n",
    "plt.ylim(0, 1)\n",
    "\n",
    "# plot prior\n",
    "theta = np.linspace(-3, 3, 60)\n",
    "y = prior.pdf(theta)\n",
    "plt.plot(theta, y, 'b-.', label='Prior')\n",
    "\n",
    "# plot likelihood\n",
    "y = likelihood.pdf(x=data, theta=theta)\n",
    "plt.plot(theta, y, 'r-.', label='Likelihood')\n",
    "\n",
    "# plot posterior\n",
    "y = np.squeeze(np.array([gt_posterior_pdf(th) for th in theta]))\n",
    "plt.plot(theta, y, 'g-.', label=\"True Posterior\")\n",
    "\n",
    "# plot ROMC posterior\n",
    "y = [romc.eval_posterior(np.array([[th]])) for th in theta]\n",
    "tmp = np.squeeze(np.array(y))\n",
    "plt.plot(theta, tmp, 'k-.o', label=\"ROMC Posterior\")\n",
    "\n",
    "plt.legend()\n",
    "plt.show(block=False)"
   ]
  },
  {
   "cell_type": "code",
   "execution_count": 16,
   "metadata": {},
   "outputs": [
    {
     "name": "stdout",
     "output_type": "stream",
     "text": [
      "### Getting Samples from the posterior ###\n",
      "\n",
      "\r",
      "Progress: |--------------------------------------------------| 0.0% Complete\r",
      "\r",
      "Progress: |--------------------------------------------------| 1.2% Complete\r",
      "\r",
      "Progress: |--------------------------------------------------| 1.2% Complete\r",
      "\r",
      "Progress: |█-------------------------------------------------| 2.5% Complete\r",
      "\r",
      "Progress: |█-------------------------------------------------| 2.5% Complete\r",
      "\r",
      "Progress: |█-------------------------------------------------| 3.8% Complete\r",
      "\r",
      "Progress: |█-------------------------------------------------| 3.8% Complete\r",
      "\r",
      "Progress: |██------------------------------------------------| 5.0% Complete\r",
      "\r",
      "Progress: |██------------------------------------------------| 5.0% Complete\r",
      "\r",
      "Progress: |███-----------------------------------------------| 6.2% Complete\r",
      "\r",
      "Progress: |███-----------------------------------------------| 6.2% Complete\r",
      "\r",
      "Progress: |███-----------------------------------------------| 7.5% Complete\r",
      "\r",
      "Progress: |███-----------------------------------------------| 7.5% Complete\r",
      "\r",
      "Progress: |████----------------------------------------------| 8.8% Complete\r",
      "\r",
      "Progress: |████----------------------------------------------| 8.8% Complete\r",
      "\r",
      "Progress: |█████---------------------------------------------| 10.0% Complete\r",
      "\r",
      "Progress: |█████---------------------------------------------| 10.0% Complete\r",
      "\r",
      "Progress: |█████---------------------------------------------| 11.2% Complete\r",
      "\r",
      "Progress: |█████---------------------------------------------| 11.2% Complete\r",
      "\r",
      "Progress: |██████--------------------------------------------| 12.5% Complete\r",
      "\r",
      "Progress: |██████--------------------------------------------| 12.5% Complete\r",
      "\r",
      "Progress: |██████--------------------------------------------| 13.8% Complete\r",
      "\r",
      "Progress: |██████--------------------------------------------| 13.8% Complete\r",
      "\r",
      "Progress: |███████-------------------------------------------| 15.0% Complete\r",
      "\r",
      "Progress: |███████-------------------------------------------| 15.0% Complete\r",
      "\r",
      "Progress: |████████------------------------------------------| 16.2% Complete\r",
      "\r",
      "Progress: |████████------------------------------------------| 16.2% Complete\r",
      "\r",
      "Progress: |████████------------------------------------------| 17.5% Complete\r",
      "\r",
      "Progress: |████████------------------------------------------| 17.5% Complete\r",
      "\r",
      "Progress: |█████████-----------------------------------------| 18.8% Complete\r",
      "\r",
      "Progress: |█████████-----------------------------------------| 18.8% Complete\r",
      "\r",
      "Progress: |██████████----------------------------------------| 20.0% Complete\r",
      "\r",
      "Progress: |██████████----------------------------------------| 20.0% Complete\r",
      "\r",
      "Progress: |██████████----------------------------------------| 21.2% Complete\r",
      "\r",
      "Progress: |██████████----------------------------------------| 21.2% Complete\r",
      "\r",
      "Progress: |███████████---------------------------------------| 22.5% Complete\r",
      "\r",
      "Progress: |███████████---------------------------------------| 22.5% Complete\r",
      "\r",
      "Progress: |███████████---------------------------------------| 23.8% Complete\r",
      "\r",
      "Progress: |███████████---------------------------------------| 23.8% Complete\r",
      "\r",
      "Progress: |████████████--------------------------------------| 25.0% Complete\r",
      "\r",
      "Progress: |████████████--------------------------------------| 25.0% Complete\r",
      "\r",
      "Progress: |█████████████-------------------------------------| 26.2% Complete\r",
      "\r",
      "Progress: |█████████████-------------------------------------| 26.2% Complete\r",
      "\r",
      "Progress: |█████████████-------------------------------------| 27.5% Complete\r",
      "\r",
      "Progress: |█████████████-------------------------------------| 27.5% Complete\r",
      "\r",
      "Progress: |██████████████------------------------------------| 28.7% Complete\r",
      "\r",
      "Progress: |██████████████------------------------------------| 28.7% Complete\r",
      "\r",
      "Progress: |███████████████-----------------------------------| 30.0% Complete\r",
      "\r",
      "Progress: |███████████████-----------------------------------| 30.0% Complete\r",
      "\r",
      "Progress: |███████████████-----------------------------------| 31.2% Complete\r",
      "\r",
      "Progress: |███████████████-----------------------------------| 31.2% Complete\r",
      "\r",
      "Progress: |████████████████----------------------------------| 32.5% Complete\r",
      "\r",
      "Progress: |████████████████----------------------------------| 32.5% Complete\r",
      "\r",
      "Progress: |████████████████----------------------------------| 33.8% Complete\r",
      "\r",
      "Progress: |████████████████----------------------------------| 33.8% Complete\r",
      "\r",
      "Progress: |█████████████████---------------------------------| 35.0% Complete\r",
      "\r",
      "Progress: |█████████████████---------------------------------| 35.0% Complete\r",
      "\r",
      "Progress: |██████████████████--------------------------------| 36.2% Complete\r",
      "\r",
      "Progress: |██████████████████--------------------------------| 36.2% Complete\r",
      "\r",
      "Progress: |██████████████████--------------------------------| 37.5% Complete\r",
      "\r",
      "Progress: |██████████████████--------------------------------| 37.5% Complete\r",
      "\r",
      "Progress: |███████████████████-------------------------------| 38.8% Complete\r",
      "\r",
      "Progress: |███████████████████-------------------------------| 38.8% Complete\r",
      "\r",
      "Progress: |████████████████████------------------------------| 40.0% Complete\r",
      "\r",
      "Progress: |████████████████████------------------------------| 40.0% Complete\r",
      "\r",
      "Progress: |████████████████████------------------------------| 41.2% Complete\r",
      "\r",
      "Progress: |████████████████████------------------------------| 41.2% Complete\r",
      "\r",
      "Progress: |█████████████████████-----------------------------| 42.5% Complete\r",
      "\r",
      "Progress: |█████████████████████-----------------------------| 42.5% Complete\r",
      "\r",
      "Progress: |█████████████████████-----------------------------| 43.8% Complete\r",
      "\r",
      "Progress: |█████████████████████-----------------------------| 43.8% Complete\r",
      "\r",
      "Progress: |██████████████████████----------------------------| 45.0% Complete\r",
      "\r",
      "Progress: |██████████████████████----------------------------| 45.0% Complete\r",
      "\r",
      "Progress: |███████████████████████---------------------------| 46.2% Complete\r",
      "\r",
      "Progress: |███████████████████████---------------------------| 46.2% Complete\r",
      "\r",
      "Progress: |███████████████████████---------------------------| 47.5% Complete\r",
      "\r",
      "Progress: |███████████████████████---------------------------| 47.5% Complete\r",
      "\r",
      "Progress: |████████████████████████--------------------------| 48.8% Complete\r",
      "\r",
      "Progress: |████████████████████████--------------------------| 48.8% Complete\r",
      "\r",
      "Progress: |█████████████████████████-------------------------| 50.0% Complete\r",
      "\r",
      "Progress: |█████████████████████████-------------------------| 50.0% Complete\r",
      "\r",
      "Progress: |█████████████████████████-------------------------| 51.2% Complete\r",
      "\r",
      "Progress: |█████████████████████████-------------------------| 51.2% Complete\r",
      "\r",
      "Progress: |██████████████████████████------------------------| 52.5% Complete\r",
      "\r",
      "Progress: |██████████████████████████------------------------| 52.5% Complete\r",
      "\r",
      "Progress: |██████████████████████████------------------------| 53.8% Complete\r",
      "\r",
      "Progress: |██████████████████████████------------------------| 53.8% Complete\r",
      "\r",
      "Progress: |███████████████████████████-----------------------| 55.0% Complete\r",
      "\r",
      "Progress: |███████████████████████████-----------------------| 55.0% Complete\r",
      "\r",
      "Progress: |████████████████████████████----------------------| 56.2% Complete\r",
      "\r",
      "Progress: |████████████████████████████----------------------| 56.2% Complete\r",
      "\r",
      "Progress: |████████████████████████████----------------------| 57.5% Complete\r",
      "\r",
      "Progress: |████████████████████████████----------------------| 57.5% Complete\r",
      "\r",
      "Progress: |█████████████████████████████---------------------| 58.8% Complete\r",
      "\r",
      "Progress: |█████████████████████████████---------------------| 58.8% Complete\r",
      "\r",
      "Progress: |██████████████████████████████--------------------| 60.0% Complete\r",
      "\r",
      "Progress: |██████████████████████████████--------------------| 60.0% Complete\r",
      "\r",
      "Progress: |██████████████████████████████--------------------| 61.3% Complete\r",
      "\r",
      "Progress: |██████████████████████████████--------------------| 61.3% Complete\r",
      "\r",
      "Progress: |███████████████████████████████-------------------| 62.5% Complete\r",
      "\r",
      "Progress: |███████████████████████████████-------------------| 62.5% Complete\r",
      "\r",
      "Progress: |███████████████████████████████-------------------| 63.7% Complete\r",
      "\r",
      "Progress: |███████████████████████████████-------------------| 63.7% Complete\r",
      "\r",
      "Progress: |████████████████████████████████------------------| 65.0% Complete\r",
      "\r",
      "Progress: |████████████████████████████████------------------| 65.0% Complete\r",
      "\r",
      "Progress: |█████████████████████████████████-----------------| 66.2% Complete\r",
      "\r",
      "Progress: |█████████████████████████████████-----------------| 66.2% Complete\r",
      "\r",
      "Progress: |█████████████████████████████████-----------------| 67.5% Complete\r",
      "\r",
      "Progress: |█████████████████████████████████-----------------| 67.5% Complete\r",
      "\r",
      "Progress: |██████████████████████████████████----------------| 68.8% Complete\r",
      "\r",
      "Progress: |██████████████████████████████████----------------| 68.8% Complete\r",
      "\r",
      "Progress: |███████████████████████████████████---------------| 70.0% Complete\r",
      "\r",
      "Progress: |███████████████████████████████████---------------| 70.0% Complete\r",
      "\r",
      "Progress: |███████████████████████████████████---------------| 71.2% Complete\r",
      "\r",
      "Progress: |███████████████████████████████████---------------| 71.2% Complete\r",
      "\r",
      "Progress: |████████████████████████████████████--------------| 72.5% Complete\r",
      "\r",
      "Progress: |████████████████████████████████████--------------| 72.5% Complete\r",
      "\r",
      "Progress: |████████████████████████████████████--------------| 73.8% Complete\r",
      "\r",
      "Progress: |████████████████████████████████████--------------| 73.8% Complete\r",
      "\r",
      "Progress: |█████████████████████████████████████-------------| 75.0% Complete\r",
      "\r",
      "Progress: |█████████████████████████████████████-------------| 75.0% Complete\r",
      "\r",
      "Progress: |██████████████████████████████████████------------| 76.2% Complete\r",
      "\r",
      "Progress: |██████████████████████████████████████------------| 76.2% Complete\r",
      "\r",
      "Progress: |██████████████████████████████████████------------| 77.5% Complete\r",
      "\r",
      "Progress: |██████████████████████████████████████------------| 77.5% Complete\r",
      "\r",
      "Progress: |███████████████████████████████████████-----------| 78.8% Complete\r",
      "\r",
      "Progress: |███████████████████████████████████████-----------| 78.8% Complete\r",
      "\r",
      "Progress: |████████████████████████████████████████----------| 80.0% Complete\r",
      "\r",
      "Progress: |████████████████████████████████████████----------| 80.0% Complete\r",
      "\r",
      "Progress: |████████████████████████████████████████----------| 81.2% Complete\r",
      "\r",
      "Progress: |████████████████████████████████████████----------| 81.2% Complete\r",
      "\r",
      "Progress: |█████████████████████████████████████████---------| 82.5% Complete\r",
      "\r",
      "Progress: |█████████████████████████████████████████---------| 82.5% Complete\r",
      "\r",
      "Progress: |█████████████████████████████████████████---------| 83.8% Complete\r",
      "\r",
      "Progress: |█████████████████████████████████████████---------| 83.8% Complete\r",
      "\r",
      "Progress: |██████████████████████████████████████████--------| 85.0% Complete\r",
      "\r",
      "Progress: |██████████████████████████████████████████--------| 85.0% Complete\r",
      "\r",
      "Progress: |███████████████████████████████████████████-------| 86.2% Complete\r",
      "\r",
      "Progress: |███████████████████████████████████████████-------| 86.2% Complete\r",
      "\r",
      "Progress: |███████████████████████████████████████████-------| 87.5% Complete\r",
      "\r",
      "Progress: |███████████████████████████████████████████-------| 87.5% Complete\r",
      "\r",
      "Progress: |████████████████████████████████████████████------| 88.8% Complete\r",
      "\r",
      "Progress: |████████████████████████████████████████████------| 88.8% Complete\r",
      "\r",
      "Progress: |█████████████████████████████████████████████-----| 90.0% Complete\r",
      "\r",
      "Progress: |█████████████████████████████████████████████-----| 90.0% Complete\r",
      "\r",
      "Progress: |█████████████████████████████████████████████-----| 91.2% Complete\r",
      "\r",
      "Progress: |█████████████████████████████████████████████-----| 91.2% Complete\r",
      "\r",
      "Progress: |██████████████████████████████████████████████----| 92.5% Complete\r",
      "\r",
      "Progress: |██████████████████████████████████████████████----| 92.5% Complete\r",
      "\r",
      "Progress: |██████████████████████████████████████████████----| 93.8% Complete\r",
      "\r",
      "Progress: |██████████████████████████████████████████████----| 93.8% Complete\r",
      "\r",
      "Progress: |███████████████████████████████████████████████---| 95.0% Complete\r",
      "\r",
      "Progress: |███████████████████████████████████████████████---| 95.0% Complete\r",
      "\r",
      "Progress: |████████████████████████████████████████████████--| 96.2% Complete\r",
      "\r",
      "Progress: |████████████████████████████████████████████████--| 96.2% Complete\r",
      "\r",
      "Progress: |████████████████████████████████████████████████--| 97.5% Complete\r",
      "\r",
      "Progress: |████████████████████████████████████████████████--| 97.5% Complete\r",
      "\r",
      "Progress: |█████████████████████████████████████████████████-| 98.8% Complete\r",
      "\r",
      "Progress: |█████████████████████████████████████████████████-| 98.8% Complete\r",
      "\r",
      "Progress: |██████████████████████████████████████████████████| 100.0% Complete\r\n",
      "Time: 0.172 sec \n",
      "\n"
     ]
    }
   ],
   "source": [
    "n2 = 20\n",
    "tmp = romc.sample(n2=n2, seed=seed)"
   ]
  },
  {
   "cell_type": "code",
   "execution_count": 17,
   "metadata": {},
   "outputs": [
    {
     "data": {
      "image/png": "[encoded data removed]",
      "text/plain": [
       "<Figure size 432x288 with 1 Axes>"
      ]
     },
     "metadata": {
      "needs_background": "light"
     },
     "output_type": "display_data"
    }
   ],
   "source": [
    "# As before but now it plots the samples as well\n",
    "romc.visualize_region(3)"
   ]
  },
  {
   "cell_type": "code",
   "execution_count": 18,
   "metadata": {},
   "outputs": [
    {
     "name": "stdout",
     "output_type": "stream",
     "text": [
      "Expected value   : 0.624\n",
      "Expected variance: 1.253\n"
     ]
    }
   ],
   "source": [
    "# compute expectation\n",
    "print(\"Expected value   : %.3f\" % romc.compute_expectation(h = lambda x: np.squeeze(x)))\n",
    "print(\"Expected variance: %.3f\" % romc.compute_expectation(h =lambda x: np.squeeze(x)**2))"
   ]
  },
  {
   "cell_type": "markdown",
   "metadata": {},
   "source": [
    "## Evaluation"
   ]
  },
  {
   "cell_type": "code",
   "execution_count": 19,
   "metadata": {},
   "outputs": [
    {
     "name": "stdout",
     "output_type": "stream",
     "text": [
      "0.3255577957775223\n"
     ]
    }
   ],
   "source": [
    "def wrapper(x):\n",
    "    res = []\n",
    "    for i in range(x.shape[0]):\n",
    "        tmp = x[i]\n",
    "        res.append(gt_posterior_pdf(float(tmp)))\n",
    "    return np.array(res)\n",
    "\n",
    "print(romc.compute_divergence(wrapper, distance=\"Jensen-Shannon\"))"
   ]
  },
  {
   "cell_type": "code",
   "execution_count": 20,
   "metadata": {},
   "outputs": [
    {
     "name": "stdout",
     "output_type": "stream",
     "text": [
      "Nof Samples: 80, ESS: 78.048\n"
     ]
    }
   ],
   "source": [
    "# compute ESS\n",
    "print(\"Nof Samples: %d, ESS: %.3f\" % (len(romc.result.weights), romc.compute_ess()))"
   ]
  },
  {
   "cell_type": "code",
   "execution_count": 21,
   "metadata": {},
   "outputs": [
    {
     "data": {
      "image/png": "[encoded data removed]",
      "text/plain": [
       "<Figure size 1152x288 with 1 Axes>"
      ]
     },
     "metadata": {
      "needs_background": "light"
     },
     "output_type": "display_data"
    }
   ],
   "source": [
    "romc.result.plot_marginals(weights=romc.result.weights, bins=100, density=True, range=(-3,3))\n",
    "plt.show()"
   ]
  },
  {
   "cell_type": "code",
   "execution_count": null,
   "metadata": {},
   "outputs": [],
   "source": []
  },
  {
   "cell_type": "code",
   "execution_count": null,
   "metadata": {},
   "outputs": [],
   "source": []
  }
 ],
 "metadata": {
  "kernelspec": {
   "display_name": "Python 3",
   "language": "python",
   "name": "python3"
  },
  "language_info": {
   "codemirror_mode": {
    "name": "ipython",
    "version": 3
   },
   "file_extension": ".py",
   "mimetype": "text/x-python",
   "name": "python",
   "nbconvert_exporter": "python",
   "pygments_lexer": "ipython3",
   "version": "3.5.6"
  }
 },
 "nbformat": 4,
 "nbformat_minor": 4
}
