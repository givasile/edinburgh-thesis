{
 "cells": [
  {
   "cell_type": "code",
   "execution_count": 1,
   "metadata": {},
   "outputs": [],
   "source": [
    "import timeit\n",
    "\n",
    "import matplotlib.pyplot as plt\n",
    "import numpy as np\n",
    "import scipy.integrate as integrate\n",
    "import scipy.ndimage as ndimage\n",
    "import scipy.stats as ss\n",
    "from mpl_toolkits import mplot3d\n",
    "\n",
    "import elfi\n",
    "\n",
    "np.random.seed(21)"
   ]
  },
  {
   "cell_type": "code",
   "execution_count": 2,
   "metadata": {},
   "outputs": [],
   "source": [
    "class Prior:\n",
    "    def rvs(self, size=None, random_state=None):\n",
    "        # size from (BS,) -> (BS,1)\n",
    "        if size is not None:\n",
    "            size = np.concatenate((size, [1]))\n",
    "        return ss.uniform(loc=-2.5, scale=5).rvs(size=size, random_state=random_state)\n",
    "\n",
    "    def pdf(self, theta):\n",
    "        return ss.uniform(loc=-2.5, scale=5).pdf(theta)\n",
    "\n",
    "    def logpdf(self, theta):\n",
    "        return ss.uniform(loc=-2.5, scale=5).logpdf(theta)"
   ]
  },
  {
   "cell_type": "code",
   "execution_count": 3,
   "metadata": {},
   "outputs": [],
   "source": [
    "class Likelihood:\n",
    "    def rvs(self, th1, th2, seed=None):\n",
    "        assert isinstance(th1, np.ndarray)\n",
    "        assert isinstance(th2, np.ndarray)\n",
    "        assert th1.ndim == 2\n",
    "        assert th2.ndim == 2\n",
    "        assert np.allclose(th1.shape, th2.shape)\n",
    "\n",
    "        x = []\n",
    "        for i in range(th1.shape[0]):\n",
    "            cur_th = np.concatenate((th1[i], th2[i]))\n",
    "            x.append(ss.multivariate_normal(mean=cur_th, cov=1).rvs(random_state=seed))\n",
    "        return np.array(x)\n",
    "\n",
    "    def pdf(self, x, th1, th2):\n",
    "        assert isinstance(th1, float)\n",
    "        assert isinstance(th2, float)\n",
    "        assert isinstance(x, np.ndarray)\n",
    "\n",
    "        th = np.stack((th1, th2))\n",
    "        rv = ss.multivariate_normal(mean=th, cov=1)\n",
    "        nof_points = x.shape[0]\n",
    "        prod = 1\n",
    "        for i in range(nof_points):\n",
    "            prod *= rv.pdf(x[i])\n",
    "        return prod"
   ]
  },
  {
   "cell_type": "code",
   "execution_count": 4,
   "metadata": {},
   "outputs": [],
   "source": [
    "def create_factor(x):\n",
    "    lik = Likelihood()\n",
    "    pr = Prior()\n",
    "\n",
    "    def tmp_func(th1, th2):\n",
    "        return lik.pdf(x, th1, th2) * pr.pdf(th1) * pr.pdf(th2)\n",
    "    return tmp_func\n",
    "\n",
    "\n",
    "def approximate_Z(func):\n",
    "    return integrate.dblquad(func, -2.5, 2.5, lambda x: -2.5, lambda x: 2.5)[0]\n",
    "\n",
    "\n",
    "def create_gt_posterior(factor, Z):\n",
    "    def tmp_func(th1, th2):\n",
    "        return factor(th1, th2) / Z\n",
    "    return tmp_func\n",
    "\n",
    "def plot_gt_posterior(posterior, nof_points):\n",
    "    plt.figure()\n",
    "    x = np.linspace(-4, 4, nof_points)\n",
    "    y = np.linspace(-4, 4, nof_points)\n",
    "\n",
    "    x, y = np.meshgrid(x, y)\n",
    "\n",
    "    tmp = []\n",
    "    for i in range(x.shape[0]):\n",
    "        tmp.append([])\n",
    "        for j in range(x.shape[1]):\n",
    "            tmp[i].append(posterior(x[i, j], y[i, j]))\n",
    "    z = np.array(tmp)\n",
    "    plt.contourf(x, y, z, 40)\n",
    "    plt.title('Ground-Truth Posterior PDF')\n",
    "    plt.colorbar()\n",
    "    plt.xlabel(\"th_1\")\n",
    "    plt.ylabel(\"th_2\")\n",
    "    plt.show(block=False)"
   ]
  },
  {
   "cell_type": "code",
   "execution_count": 5,
   "metadata": {},
   "outputs": [
    {
     "data": {
      "image/png": "[encoded data removed]",
      "text/plain": [
       "<Figure size 432x288 with 2 Axes>"
      ]
     },
     "metadata": {
      "needs_background": "light"
     },
     "output_type": "display_data"
    }
   ],
   "source": [
    "data = - np.array([[1.,1.]])\n",
    "dim = data.shape[-1]\n",
    "factor = create_factor(data)\n",
    "Z = approximate_Z(factor)\n",
    "gt_posterior = create_gt_posterior(factor, Z)\n",
    "\n",
    "plot_gt_posterior(gt_posterior, nof_points=50)"
   ]
  },
  {
   "cell_type": "code",
   "execution_count": 6,
   "metadata": {},
   "outputs": [],
   "source": [
    "def simulate_data(th1, th2, batch_size=10000, random_state=None):\n",
    "    likelihood = Likelihood()\n",
    "    return likelihood.rvs(th1, th2, seed=random_state)\n",
    "\n",
    "\n",
    "def summarize(x):\n",
    "    if x.ndim == 1:\n",
    "        x = np.expand_dims(x, -1)\n",
    "    return np.prod(x, axis=-1)"
   ]
  },
  {
   "cell_type": "code",
   "execution_count": 7,
   "metadata": {},
   "outputs": [],
   "source": [
    "elfi.new_model(\"2D_example\")\n",
    "elfi_th1 = elfi.Prior(Prior(), name=\"th1\")\n",
    "elfi_th2 = elfi.Prior(Prior(), name=\"th2\")\n",
    "elfi_simulator = elfi.Simulator(simulate_data, elfi_th1, elfi_th2, observed=data, name=\"simulator\")\n",
    "dist = elfi.Distance('euclidean', elfi_simulator, name=\"dist\")\n",
    "summary = elfi.Summary(summarize, dist, name=\"summary\")"
   ]
  },
  {
   "cell_type": "code",
   "execution_count": 8,
   "metadata": {},
   "outputs": [],
   "source": [
    "left_lim = np.ones(dim)*-2.5\n",
    "right_lim = np.ones(dim)*2.5\n",
    "romc = elfi.ROMC(summary, left_lim=left_lim, right_lim=right_lim)"
   ]
  },
  {
   "cell_type": "code",
   "execution_count": 9,
   "metadata": {},
   "outputs": [],
   "source": [
    "n1 = 500\n",
    "seed = 21\n",
    "use_gp = True\n",
    "# romc.solve_problems(n1=n1, seed=seed, use_gp=use_gp)"
   ]
  },
  {
   "cell_type": "code",
   "execution_count": 10,
   "metadata": {},
   "outputs": [],
   "source": [
    "eps = .3\n",
    "region_mode = \"gp\"\n",
    "# assert region_mode in [\"gt_full_coverage\", \"romc_jacobian\", \"gp\"]\n",
    "\n",
    "# romc.estimate_regions(eps=eps, region_mode=region_mode)"
   ]
  },
  {
   "cell_type": "code",
   "execution_count": null,
   "metadata": {},
   "outputs": [
    {
     "name": "stdout",
     "output_type": "stream",
     "text": [
      "### Fitting Gaussian Processes ###\n",
      "### Fitting Gaussian Processes ###\n",
      "Progress: |███████████████████████████████████████-----------| 78.6% Complete\r"
     ]
    }
   ],
   "source": [
    "romc.fit_posterior(n1=n1, eps=eps, region_mode=region_mode, seed=seed)"
   ]
  },
  {
   "cell_type": "code",
   "execution_count": null,
   "metadata": {},
   "outputs": [],
   "source": [
    "romc.visualize_region(7)"
   ]
  },
  {
   "cell_type": "code",
   "execution_count": null,
   "metadata": {},
   "outputs": [],
   "source": [
    "romc.eval_unnorm_posterior(theta=-np.array([[1.5, 1.5]]))"
   ]
  },
  {
   "cell_type": "code",
   "execution_count": null,
   "metadata": {},
   "outputs": [],
   "source": [
    "def plot_romc_posterior(posterior, nof_points):\n",
    "    plt.figure()\n",
    "    th1 = np.linspace(-4, 4, nof_points)\n",
    "    th2 = np.linspace(-4, 4, nof_points)\n",
    "    X, Y = np.meshgrid(th1, th2)\n",
    "\n",
    "    x_flat = X.flatten()\n",
    "    y_flat = Y.flatten()\n",
    "    th = np.stack((x_flat, y_flat), -1)\n",
    "    z_flat = posterior(th)\n",
    "    Z = z_flat.reshape(nof_points, nof_points)\n",
    "    \n",
    "    plt.contourf(X, Y, Z, 50, cmap='viridis')\n",
    "    plt.title('ROMC Posterior PDF')\n",
    "    plt.xlabel(\"th_1\")\n",
    "    plt.ylabel(\"th_2\")\n",
    "    plt.colorbar()\n",
    "    plt.show(block=False)\n",
    "    \n",
    "plot_romc_posterior(romc.eval_unnorm_posterior, nof_points=30)"
   ]
  },
  {
   "cell_type": "code",
   "execution_count": null,
   "metadata": {},
   "outputs": [],
   "source": [
    "romc.sample(n2=100)"
   ]
  },
  {
   "cell_type": "code",
   "execution_count": null,
   "metadata": {},
   "outputs": [],
   "source": [
    "romc.visualize_region(7)"
   ]
  },
  {
   "cell_type": "code",
   "execution_count": null,
   "metadata": {},
   "outputs": [],
   "source": [
    "romc.result.plot_marginals(weights=romc.result.weights)"
   ]
  },
  {
   "cell_type": "code",
   "execution_count": null,
   "metadata": {},
   "outputs": [],
   "source": [
    "romc.result.summary()"
   ]
  },
  {
   "cell_type": "code",
   "execution_count": null,
   "metadata": {},
   "outputs": [],
   "source": []
  }
 ],
 "metadata": {
  "kernelspec": {
   "display_name": "Python 3",
   "language": "python",
   "name": "python3"
  },
  "language_info": {
   "codemirror_mode": {
    "name": "ipython",
    "version": 3
   },
   "file_extension": ".py",
   "mimetype": "text/x-python",
   "name": "python",
   "nbconvert_exporter": "python",
   "pygments_lexer": "ipython3",
   "version": "3.7.3"
  }
 },
 "nbformat": 4,
 "nbformat_minor": 4
}
