{
  "nbformat": 4,
  "nbformat_minor": 0,
  "metadata": {
    "kernelspec": {
      "display_name": "Python 3",
      "language": "python",
      "name": "python3"
    },
    "language_info": {
      "codemirror_mode": {
        "name": "ipython",
        "version": 3
      },
      "file_extension": ".py",
      "mimetype": "text/x-python",
      "name": "python",
      "nbconvert_exporter": "python",
      "pygments_lexer": "ipython3",
      "version": "3.5.6"
    },
    "colab": {
      "name": "example_1D.ipynb",
      "provenance": [],
      "include_colab_link": true
    }
  },
  "cells": [
    {
      "cell_type": "markdown",
      "metadata": {
        "id": "view-in-github",
        "colab_type": "text"
      },
      "source": [
        "<a href=\"https://colab.research.google.com/github/givasile/edinburgh-thesis/blob/master/example_1D.ipynb\" target=\"_parent\"><img src=\"https://colab.research.google.com/assets/colab-badge.svg\" alt=\"Open In Colab\"/></a>"
      ]
    },
    {
      "cell_type": "markdown",
      "metadata": {
        "id": "ZMYpuSgDaZD9",
        "colab_type": "text"
      },
      "source": [
        "This presentation is meant to illustrate the functionalities provided by the ROMC inference method, at the ELFI package.\n"
      ]
    },
    {
      "cell_type": "code",
      "metadata": {
        "id": "rVvtoOKGajSR",
        "colab_type": "code",
        "colab": {
          "base_uri": "https://localhost:8080/",
          "height": 819
        },
        "outputId": "989ac16a-4dbb-4cb3-eaa6-d2bba93c2c2e"
      },
      "source": [
        "! git clone https://github.com/givasile/elfi.git\n",
        "%cd elfi/\n",
        "! git checkout ROMC_method\n",
        "%cd ./..\n",
        "! ls\n",
        "import sys\n",
        "sys.path.insert(0,'./elfi/')\n",
        "print(sys.path)\n",
        "! pip install -r elfi/requirements.txt"
      ],
      "execution_count": null,
      "outputs": [
        {
          "output_type": "stream",
          "text": [
            "Cloning into 'elfi'...\n",
            "remote: Enumerating objects: 70, done.\u001b[K\n",
            "remote: Counting objects:   1% (1/70)\u001b[K\rremote: Counting objects:   2% (2/70)\u001b[K\rremote: Counting objects:   4% (3/70)\u001b[K\rremote: Counting objects:   5% (4/70)\u001b[K\rremote: Counting objects:   7% (5/70)\u001b[K\rremote: Counting objects:   8% (6/70)\u001b[K\rremote: Counting objects:  10% (7/70)\u001b[K\rremote: Counting objects:  11% (8/70)\u001b[K\rremote: Counting objects:  12% (9/70)\u001b[K\rremote: Counting objects:  14% (10/70)\u001b[K\rremote: Counting objects:  15% (11/70)\u001b[K\rremote: Counting objects:  17% (12/70)\u001b[K\rremote: Counting objects:  18% (13/70)\u001b[K\rremote: Counting objects:  20% (14/70)\u001b[K\rremote: Counting objects:  21% (15/70)\u001b[K\rremote: Counting objects:  22% (16/70)\u001b[K\rremote: Counting objects:  24% (17/70)\u001b[K\rremote: Counting objects:  25% (18/70)\u001b[K\rremote: Counting objects:  27% (19/70)\u001b[K\rremote: Counting objects:  28% (20/70)\u001b[K\rremote: Counting objects:  30% (21/70)\u001b[K\rremote: Counting objects:  31% (22/70)\u001b[K\rremote: Counting objects:  32% (23/70)\u001b[K\rremote: Counting objects:  34% (24/70)\u001b[K\rremote: Counting objects:  35% (25/70)\u001b[K\rremote: Counting objects:  37% (26/70)\u001b[K\rremote: Counting objects:  38% (27/70)\u001b[K\rremote: Counting objects:  40% (28/70)\u001b[K\rremote: Counting objects:  41% (29/70)\u001b[K\rremote: Counting objects:  42% (30/70)\u001b[K\rremote: Counting objects:  44% (31/70)\u001b[K\rremote: Counting objects:  45% (32/70)\u001b[K\rremote: Counting objects:  47% (33/70)\u001b[K\rremote: Counting objects:  48% (34/70)\u001b[K\rremote: Counting objects:  50% (35/70)\u001b[K\rremote: Counting objects:  51% (36/70)\u001b[K\rremote: Counting objects:  52% (37/70)\u001b[K\rremote: Counting objects:  54% (38/70)\u001b[K\rremote: Counting objects:  55% (39/70)\u001b[K\rremote: Counting objects:  57% (40/70)\u001b[K\rremote: Counting objects:  58% (41/70)\u001b[K\rremote: Counting objects:  60% (42/70)\u001b[K\rremote: Counting objects:  61% (43/70)\u001b[K\rremote: Counting objects:  62% (44/70)\u001b[K\rremote: Counting objects:  64% (45/70)\u001b[K\rremote: Counting objects:  65% (46/70)\u001b[K\rremote: Counting objects:  67% (47/70)\u001b[K\rremote: Counting objects:  68% (48/70)\u001b[K\rremote: Counting objects:  70% (49/70)\u001b[K\rremote: Counting objects:  71% (50/70)\u001b[K\rremote: Counting objects:  72% (51/70)\u001b[K\rremote: Counting objects:  74% (52/70)\u001b[K\rremote: Counting objects:  75% (53/70)\u001b[K\rremote: Counting objects:  77% (54/70)\u001b[K\rremote: Counting objects:  78% (55/70)\u001b[K\rremote: Counting objects:  80% (56/70)\u001b[K\rremote: Counting objects:  81% (57/70)\u001b[K\rremote: Counting objects:  82% (58/70)\u001b[K\rremote: Counting objects:  84% (59/70)\u001b[K\rremote: Counting objects:  85% (60/70)\u001b[K\rremote: Counting objects:  87% (61/70)\u001b[K\rremote: Counting objects:  88% (62/70)\u001b[K\rremote: Counting objects:  90% (63/70)\u001b[K\rremote: Counting objects:  91% (64/70)\u001b[K\rremote: Counting objects:  92% (65/70)\u001b[K\rremote: Counting objects:  94% (66/70)\u001b[K\rremote: Counting objects:  95% (67/70)\u001b[K\rremote: Counting objects:  97% (68/70)\u001b[K\rremote: Counting objects:  98% (69/70)\u001b[K\rremote: Counting objects: 100% (70/70)\u001b[K\rremote: Counting objects: 100% (70/70), done.\u001b[K\n",
            "remote: Compressing objects: 100% (42/42), done.\u001b[K\n",
            "remote: Total 5508 (delta 50), reused 45 (delta 28), pack-reused 5438\u001b[K\n",
            "Receiving objects: 100% (5508/5508), 1.48 MiB | 14.87 MiB/s, done.\n",
            "Resolving deltas: 100% (3485/3485), done.\n",
            "/content/elfi\n",
            "Branch 'ROMC_method' set up to track remote branch 'ROMC_method' from 'origin'.\n",
            "Switched to a new branch 'ROMC_method'\n",
            "/content\n",
            "elfi  sample_data\n",
            "['./elfi/', '', '/env/python', '/usr/lib/python36.zip', '/usr/lib/python3.6', '/usr/lib/python3.6/lib-dynload', '/usr/local/lib/python3.6/dist-packages', '/usr/lib/python3/dist-packages', '/usr/local/lib/python3.6/dist-packages/IPython/extensions', '/root/.ipython']\n",
            "Requirement already satisfied: numpy>=1.12.1 in /usr/local/lib/python3.6/dist-packages (from -r elfi/requirements.txt (line 1)) (1.18.5)\n",
            "Requirement already satisfied: scipy>=0.19 in /usr/local/lib/python3.6/dist-packages (from -r elfi/requirements.txt (line 2)) (1.4.1)\n",
            "Requirement already satisfied: matplotlib>=1.1 in /usr/local/lib/python3.6/dist-packages (from -r elfi/requirements.txt (line 3)) (3.2.2)\n",
            "Requirement already satisfied: GPy>=1.0.9 in /usr/local/lib/python3.6/dist-packages (from -r elfi/requirements.txt (line 4)) (1.9.9)\n",
            "Requirement already satisfied: networkX<2.0,>=1.11 in /usr/local/lib/python3.6/dist-packages (from -r elfi/requirements.txt (line 5)) (1.11)\n",
            "Requirement already satisfied: ipyparallel>=6 in /usr/local/lib/python3.6/dist-packages (from -r elfi/requirements.txt (line 6)) (6.3.0)\n",
            "Requirement already satisfied: toolz>=0.8 in /usr/local/lib/python3.6/dist-packages (from -r elfi/requirements.txt (line 7)) (0.10.0)\n",
            "Requirement already satisfied: scikit-learn>=0.18.1 in /usr/local/lib/python3.6/dist-packages (from -r elfi/requirements.txt (line 8)) (0.22.2.post1)\n",
            "Requirement already satisfied: python-dateutil>=2.1 in /usr/local/lib/python3.6/dist-packages (from matplotlib>=1.1->-r elfi/requirements.txt (line 3)) (2.8.1)\n",
            "Requirement already satisfied: kiwisolver>=1.0.1 in /usr/local/lib/python3.6/dist-packages (from matplotlib>=1.1->-r elfi/requirements.txt (line 3)) (1.2.0)\n",
            "Requirement already satisfied: cycler>=0.10 in /usr/local/lib/python3.6/dist-packages (from matplotlib>=1.1->-r elfi/requirements.txt (line 3)) (0.10.0)\n",
            "Requirement already satisfied: pyparsing!=2.0.4,!=2.1.2,!=2.1.6,>=2.0.1 in /usr/local/lib/python3.6/dist-packages (from matplotlib>=1.1->-r elfi/requirements.txt (line 3)) (2.4.7)\n",
            "Requirement already satisfied: paramz>=0.9.0 in /usr/local/lib/python3.6/dist-packages (from GPy>=1.0.9->-r elfi/requirements.txt (line 4)) (0.9.5)\n",
            "Requirement already satisfied: six in /usr/local/lib/python3.6/dist-packages (from GPy>=1.0.9->-r elfi/requirements.txt (line 4)) (1.15.0)\n",
            "Requirement already satisfied: decorator>=3.4.0 in /usr/local/lib/python3.6/dist-packages (from networkX<2.0,>=1.11->-r elfi/requirements.txt (line 5)) (4.4.2)\n",
            "Requirement already satisfied: ipykernel>=4.4 in /usr/local/lib/python3.6/dist-packages (from ipyparallel>=6->-r elfi/requirements.txt (line 6)) (4.10.1)\n",
            "Requirement already satisfied: pyzmq>=13 in /usr/local/lib/python3.6/dist-packages (from ipyparallel>=6->-r elfi/requirements.txt (line 6)) (19.0.2)\n",
            "Requirement already satisfied: jupyter-client in /usr/local/lib/python3.6/dist-packages (from ipyparallel>=6->-r elfi/requirements.txt (line 6)) (5.3.5)\n",
            "Requirement already satisfied: ipython>=4 in /usr/local/lib/python3.6/dist-packages (from ipyparallel>=6->-r elfi/requirements.txt (line 6)) (5.5.0)\n",
            "Requirement already satisfied: tornado>=4 in /usr/local/lib/python3.6/dist-packages (from ipyparallel>=6->-r elfi/requirements.txt (line 6)) (5.1.1)\n",
            "Requirement already satisfied: traitlets>=4.3 in /usr/local/lib/python3.6/dist-packages (from ipyparallel>=6->-r elfi/requirements.txt (line 6)) (4.3.3)\n",
            "Requirement already satisfied: ipython-genutils in /usr/local/lib/python3.6/dist-packages (from ipyparallel>=6->-r elfi/requirements.txt (line 6)) (0.2.0)\n",
            "Requirement already satisfied: joblib>=0.11 in /usr/local/lib/python3.6/dist-packages (from scikit-learn>=0.18.1->-r elfi/requirements.txt (line 8)) (0.16.0)\n",
            "Requirement already satisfied: jupyter-core>=4.6.0 in /usr/local/lib/python3.6/dist-packages (from jupyter-client->ipyparallel>=6->-r elfi/requirements.txt (line 6)) (4.6.3)\n",
            "Requirement already satisfied: pickleshare in /usr/local/lib/python3.6/dist-packages (from ipython>=4->ipyparallel>=6->-r elfi/requirements.txt (line 6)) (0.7.5)\n",
            "Requirement already satisfied: prompt-toolkit<2.0.0,>=1.0.4 in /usr/local/lib/python3.6/dist-packages (from ipython>=4->ipyparallel>=6->-r elfi/requirements.txt (line 6)) (1.0.18)\n",
            "Requirement already satisfied: pygments in /usr/local/lib/python3.6/dist-packages (from ipython>=4->ipyparallel>=6->-r elfi/requirements.txt (line 6)) (2.1.3)\n",
            "Requirement already satisfied: setuptools>=18.5 in /usr/local/lib/python3.6/dist-packages (from ipython>=4->ipyparallel>=6->-r elfi/requirements.txt (line 6)) (49.6.0)\n",
            "Requirement already satisfied: pexpect; sys_platform != \"win32\" in /usr/local/lib/python3.6/dist-packages (from ipython>=4->ipyparallel>=6->-r elfi/requirements.txt (line 6)) (4.8.0)\n",
            "Requirement already satisfied: simplegeneric>0.8 in /usr/local/lib/python3.6/dist-packages (from ipython>=4->ipyparallel>=6->-r elfi/requirements.txt (line 6)) (0.8.1)\n",
            "Requirement already satisfied: wcwidth in /usr/local/lib/python3.6/dist-packages (from prompt-toolkit<2.0.0,>=1.0.4->ipython>=4->ipyparallel>=6->-r elfi/requirements.txt (line 6)) (0.2.5)\n",
            "Requirement already satisfied: ptyprocess>=0.5 in /usr/local/lib/python3.6/dist-packages (from pexpect; sys_platform != \"win32\"->ipython>=4->ipyparallel>=6->-r elfi/requirements.txt (line 6)) (0.6.0)\n"
          ],
          "name": "stdout"
        }
      ]
    },
    {
      "cell_type": "code",
      "metadata": {
        "id": "rjdqozF2aZEA",
        "colab_type": "code",
        "colab": {
          "base_uri": "https://localhost:8080/",
          "height": 34
        },
        "outputId": "fb63efc6-ce0c-4927-ffcf-a490026cae62"
      },
      "source": [
        "import timeit\n",
        "import matplotlib.pyplot as plt\n",
        "import numpy as np\n",
        "import scipy.integrate as integrate\n",
        "import scipy.stats as ss\n",
        "import elfi"
      ],
      "execution_count": null,
      "outputs": [
        {
          "output_type": "stream",
          "text": [
            "elfi  sample_data\n"
          ],
          "name": "stdout"
        }
      ]
    },
    {
      "cell_type": "code",
      "metadata": {
        "id": "t8vVZkdLaZEI",
        "colab_type": "code",
        "colab": {}
      },
      "source": [
        "class Prior:\n",
        "    def rvs(self, size=None, random_state=None):\n",
        "        # size from (BS,) -> (BS,1)\n",
        "        if size is not None:\n",
        "            size = np.concatenate((size, [1]))\n",
        "        return ss.uniform(loc=-2.5, scale=5).rvs(size=size, random_state=random_state)\n",
        "\n",
        "    def pdf(self, theta):\n",
        "        return ss.uniform(loc=-2.5, scale=5).pdf(theta)\n",
        "\n",
        "    def logpdf(self, theta):\n",
        "        return ss.uniform(loc=-2.5, scale=5).logpdf(theta)"
      ],
      "execution_count": null,
      "outputs": []
    },
    {
      "cell_type": "code",
      "metadata": {
        "id": "9GqaWiL8aZER",
        "colab_type": "code",
        "colab": {}
      },
      "source": [
        "class Likelihood:\n",
        "    r\"\"\"Implements the distribution\n",
        "    P(x|theta) = N(x; theta^4, 1)         if theta in [-0.5, 0.5]\n",
        "                 N(x; theta + 0.5 + 0.5^4 if theta > 0.5\n",
        "                 N(x; theta - 0.5 + 0.5^4 if theta < 0.5\n",
        "    \"\"\"\n",
        "\n",
        "    def rvs(self, theta, seed=None):\n",
        "        \"\"\"Vectorized sampling from likelihood.\n",
        "\n",
        "        \"\"\"\n",
        "        assert isinstance(theta, np.ndarray)\n",
        "        theta = theta.astype(np.float)\n",
        "        samples = np.empty_like(theta)\n",
        "\n",
        "        c = 0.5 - 0.5 ** 4\n",
        "\n",
        "        tmp_theta = theta[theta <= -0.5]\n",
        "        samples[theta <= -0.5] = ss.norm(loc=-tmp_theta - c, scale=1).rvs(random_state=seed)\n",
        "        theta[theta <= -0.5] = np.inf\n",
        "\n",
        "        tmp_theta = theta[theta <= 0.5]\n",
        "        samples[theta <= 0.5] = ss.norm(loc=tmp_theta**4, scale=1).rvs(random_state=seed)\n",
        "        theta[theta <= 0.5] = np.inf\n",
        "\n",
        "        tmp_theta = theta[theta < np.inf]\n",
        "        samples[theta < np.inf] = ss.norm(loc=tmp_theta - c, scale=1).rvs(random_state=seed)\n",
        "        theta[theta < np.inf] = np.inf\n",
        "\n",
        "        assert np.allclose(theta, np.inf)\n",
        "        return samples\n",
        "\n",
        "    def pdf(self, x, theta):\n",
        "        \"\"\"Vectorised pdf evaluation.\n",
        "        \"\"\"\n",
        "        assert isinstance(x, np.ndarray)\n",
        "        assert isinstance(theta, np.ndarray)\n",
        "        assert theta.ndim == 1\n",
        "        assert x.ndim == 1\n",
        "\n",
        "        BS = theta.shape[0]\n",
        "        N = x.shape[0]\n",
        "        theta = theta.astype(np.float)\n",
        "\n",
        "        pdf_eval = np.zeros((BS))\n",
        "        c = 0.5 - 0.5 ** 4\n",
        "\n",
        "        def help_func(lim, mode):\n",
        "            tmp_theta = theta[theta <= lim]\n",
        "            tmp_theta = np.expand_dims(tmp_theta, -1)\n",
        "            scale = np.ones_like(tmp_theta)\n",
        "            if mode == 1:\n",
        "                pdf_eval[theta <= lim] = np.prod(ss.norm(loc=-tmp_theta - c, scale=scale).pdf(x), 1)\n",
        "            elif mode == 2:\n",
        "                pdf_eval[theta <= lim] = np.prod(ss.norm(loc=tmp_theta**4, scale=scale).pdf(x), 1)\n",
        "            elif mode == 3:\n",
        "                pdf_eval[theta <= lim] = np.prod(ss.norm(loc=tmp_theta - c, scale=scale).pdf(x), 1)\n",
        "            theta[theta <= lim] = np.inf\n",
        "\n",
        "        big_M = 10**7\n",
        "        help_func(lim=-0.5, mode=1)\n",
        "        help_func(lim=0.5, mode=2)\n",
        "        help_func(lim=big_M, mode=3)\n",
        "        assert np.allclose(theta, np.inf)\n",
        "        return pdf_eval"
      ],
      "execution_count": null,
      "outputs": []
    },
    {
      "cell_type": "code",
      "metadata": {
        "id": "_e4ry4UbaZEX",
        "colab_type": "code",
        "colab": {}
      },
      "source": [
        "def summary(x):\n",
        "    assert isinstance(x, np.ndarray)\n",
        "    if x.ndim == 1:\n",
        "        return x\n",
        "    elif x.ndim == 2:\n",
        "        return np.prod(x, 1)\n",
        "\n",
        "\n",
        "def create_factor(x):\n",
        "    \"\"\"Creates the function g(theta) = L(theta)*prior(theta).\n",
        "\n",
        "    \"\"\"\n",
        "    lik = Likelihood()\n",
        "    pr = Prior()\n",
        "    def tmp_func(theta):\n",
        "        return float(lik.pdf(x, np.array([theta])) * pr.pdf(theta))\n",
        "    return tmp_func\n",
        "\n",
        "\n",
        "def approximate_Z(func, a, b):\n",
        "    \"\"\"Approximates the partition function with exhaustive integration.\n",
        "    \"\"\"\n",
        "    return integrate.quad(func, a, b)[0]\n",
        "\n",
        "\n",
        "def create_gt_posterior(likelihood, prior, data, Z):\n",
        "    \"\"\"Returns a function that computes the gt posterior\n",
        "    \"\"\"\n",
        "    def tmp_func(theta):\n",
        "        return likelihood.pdf(data, np.array([theta])) * prior.pdf(np.array([theta])) / Z\n",
        "    return tmp_func"
      ],
      "execution_count": null,
      "outputs": []
    },
    {
      "cell_type": "code",
      "metadata": {
        "id": "Z1_vIsIMaZEb",
        "colab_type": "code",
        "colab": {}
      },
      "source": [
        "data = np.array([-2])\n",
        "dim = data.shape[0]\n",
        "a = -2.5  # integration left limit\n",
        "b = 2.5   # integration right limit\n",
        "\n",
        "likelihood = Likelihood()\n",
        "prior = Prior()\n",
        "\n",
        "factor = create_factor(x=data)\n",
        "Z = approximate_Z(factor, a, b)\n",
        "gt_posterior_pdf = create_gt_posterior(likelihood, prior, data, Z)"
      ],
      "execution_count": null,
      "outputs": []
    },
    {
      "cell_type": "code",
      "metadata": {
        "id": "_en4Qs0VaZEh",
        "colab_type": "code",
        "colab": {
          "base_uri": "https://localhost:8080/",
          "height": 295
        },
        "outputId": "c8f33f58-b8d8-41a8-b8c8-ea9231184039"
      },
      "source": [
        "plt.figure()\n",
        "plt.title(\"Ground Truth posterior\")\n",
        "plt.xlim(-3, 3)\n",
        "plt.xlabel(\"theta\")\n",
        "plt.ylabel(\"PDF\")\n",
        "plt.ylim(0, 1)\n",
        "\n",
        "# plot prior\n",
        "theta = np.linspace(-3, 3, 60)\n",
        "y = prior.pdf(theta)\n",
        "plt.plot(theta, y, 'b-.', label='Prior')\n",
        "\n",
        "# plot likelihood\n",
        "y = likelihood.pdf(x=data, theta=theta)\n",
        "plt.plot(theta, y, 'r-.', label='Likelihood')\n",
        "\n",
        "# plot posterior\n",
        "y = np.squeeze(np.array([gt_posterior_pdf(th) for th in theta]))\n",
        "plt.plot(theta, y, 'g-.', label=\"True Posterior\")\n",
        "\n",
        "plt.legend()\n",
        "plt.show(block=False)"
      ],
      "execution_count": null,
      "outputs": [
        {
          "output_type": "display_data",
          "data": {
            "image/png": "[encoded data removed]",
            "text/plain": [
              "<Figure size 432x288 with 1 Axes>"
            ]
          },
          "metadata": {
            "tags": [],
            "needs_background": "light"
          }
        }
      ]
    },
    {
      "cell_type": "code",
      "metadata": {
        "id": "PwokdWe9aZEn",
        "colab_type": "code",
        "colab": {}
      },
      "source": [
        "def simulator(theta, dim, batch_size=10000, random_state=None):\n",
        "    likelihood = Likelihood()\n",
        "    theta = np.repeat(theta, dim, -1)\n",
        "    return likelihood.rvs(theta, seed=random_state)\n",
        "\n",
        "elfi.new_model(\"1D_example\")\n",
        "elfi_prior = elfi.Prior(Prior(), name=\"theta\")\n",
        "elfi_simulator = elfi.Simulator(simulator, elfi_prior, dim, observed=np.expand_dims(data, 0), name=\"simulator\")\n",
        "dist = elfi.Distance('euclidean', elfi_simulator, name=\"dist\")"
      ],
      "execution_count": null,
      "outputs": []
    },
    {
      "cell_type": "code",
      "metadata": {
        "id": "rSFrep9OaZEr",
        "colab_type": "code",
        "colab": {}
      },
      "source": [
        "bounds = [(-2.5, 2.5)]\n",
        "dim = data.shape[-1]\n",
        "\n",
        "# Defines the ROMC inference method\n",
        "romc = elfi.ROMC(dist, bounds)"
      ],
      "execution_count": null,
      "outputs": []
    },
    {
      "cell_type": "markdown",
      "metadata": {
        "id": "jZQ0V4n9aZEv",
        "colab_type": "text"
      },
      "source": [
        "**Functionalities of ROMC**\n",
        "\n",
        "We can split the functionalities of the ROMC inference method, in three categories; the training (fitting) part, the inference part.\n",
        "\n",
        "**Training (Fitting) part**\n",
        "\n",
        "In the training part, the algorithm (i) transforms the random sampling DAG into deterministic optimisation problems by sampling the nuisance variables (ii) solves the optimisation problems and (iii) estimates the Bounding Box areas around the solutions. For the training part, the 3 following functionalities are exposed:\n",
        "\n",
        "* **solve_problems**(n1, seed, use_gp): draws n1 nuisance variables and then defines and solves n1 optimisation problems. If use_gp==True, Bayesian Optimization is used instead of gradient_based and a Gaussian Process is fitted as distance model.\n",
        "* **estimate_regions**(eps, region_mode): creates square bounding boxes around the solutions $\\theta_*$ of the optimisation problems. If solve_problems is called with use_gp=True, region mode must be \"gp\". \n",
        "* **fit_posterior**(n1, eps, region_mode, seed): combines both steps above in a single function. The argument passed at region mode defines whether GP will be used.\n",
        "\n",
        "**Inference part**\n",
        "\n",
        "Afterwards, the user may ask three separate things from the estimated posterior:\n",
        "\n",
        "* **sample**(n2): the posterior asks for n2 **weighted** samples per optimisation problem. In total, the method will provide $n_1*n_2$ samples, alongside with their weights.\n",
        "* **compute_expectation**(h): h is a function that maps the samples to an output. This routine approximates $E_{P(\\theta|data)}[h(\\theta)]$ as $\\frac{\\sum_i h(\\theta_i)w_i}{\\sum_i w_i}$\n",
        "* **eval_unnorm_posterior**($\\theta$): this method evaluates the posterior at the point $\\theta$, as $p(\\theta|data) \\approx p(\\theta) \\sum_i \\mathbb{1}_{C_\\epsilon^{(i)}}(\\theta)$. \n",
        "* **eval_posterior**($\\theta$): this method evaluates the posterior at the point $\\theta$, as $p(\\theta|data) \\approx \\frac{1}{Z} p(\\theta) \\sum_i \\mathbb{1}_{C_\\epsilon^{(i)}}(\\theta)$. Approximating Z by summing over all the subspace where the prior has mass, is computationally expensive, hence this method works only in low dimensions (up to 3D). In higher dimensions, only evaluating the unnormalised posterior is possible.\n",
        "\n",
        "\n",
        "**Evaluation Part**\n",
        "\n",
        "* **compute_divergence**(approximation, ground_truth, limits, step, distance): approximation and ground_truth are Callables that evaluate the posterior at theta. distance can be either KL-Divergence (default) or Jensen-Shannon.  (Works up to 2D)\n",
        "\n",
        "* **compute_ess**: computes the effective sample size (samples must have been drawn)\n",
        "\n",
        "* **all the standard functionalities of the class results of the ELFI package, i.e. plot_marginals** \n",
        "\n",
        "\n",
        "**Method Inspection**:\n",
        "\n",
        "* **theta_hist**(): plots a histogramm of the distances $d_*^{(i)}$ between the produced and the observed data at the final node, for each optimisation problem. Inspecting, this histogram is a good indicator for setting the threshold $\\epsilon$\n",
        "* **visualize_region**(i): plots the area around $\\theta_*^{(i)}$, for the i-th optimisation problem. Works only for 1D and 2D case where the space can be visualized."
      ]
    },
    {
      "cell_type": "markdown",
      "metadata": {
        "id": "T4-Scr2iaZEv",
        "colab_type": "text"
      },
      "source": [
        "## Training"
      ]
    },
    {
      "cell_type": "code",
      "metadata": {
        "id": "OadhHL9XaZEx",
        "colab_type": "code",
        "colab": {
          "base_uri": "https://localhost:8080/",
          "height": 86
        },
        "outputId": "fdcd859d-f83d-4aeb-dca0-5dadb27b7c9e"
      },
      "source": [
        "# Define and solve n1 optimisation problems\n",
        "n1 = 300\n",
        "seed = 23\n",
        "optimizer_args = {}\n",
        "use_bo=False\n",
        "romc.solve_problems(n1=n1, seed=seed, use_bo=use_bo, optimizer_args=optimizer_args)"
      ],
      "execution_count": null,
      "outputs": [
        {
          "output_type": "stream",
          "text": [
            "### Solving problems using a gradient-based method ###\n",
            "Progress: |██████████████████████████████████████████████████| 100.0% Complete\n",
            "Time: 27.569 sec\n",
            "Time: 27.570 sec\n"
          ],
          "name": "stdout"
        }
      ]
    },
    {
      "cell_type": "code",
      "metadata": {
        "id": "1myGRGpraZE1",
        "colab_type": "code",
        "colab": {
          "base_uri": "https://localhost:8080/",
          "height": 295
        },
        "outputId": "85411d5e-c7fb-4daa-d660-fd62a032065d"
      },
      "source": [
        "# plots the disribution of optimal distances\n",
        "romc.distance_hist(bins=100)"
      ],
      "execution_count": null,
      "outputs": [
        {
          "output_type": "display_data",
          "data": {
            "image/png": "[encoded data removed]",
            "text/plain": [
              "<Figure size 432x288 with 1 Axes>"
            ]
          },
          "metadata": {
            "tags": [],
            "needs_background": "light"
          }
        }
      ]
    },
    {
      "cell_type": "code",
      "metadata": {
        "id": "46l531g4aZE6",
        "colab_type": "code",
        "colab": {
          "base_uri": "https://localhost:8080/",
          "height": 208
        },
        "outputId": "49a6a3c9-db84-4959-f4c0-f9c531e8f8df"
      },
      "source": [
        "eps_filter = 5\n",
        "eps_region = 10\n",
        "eps_cutoff = .1\n",
        "use_surrogate = False\n",
        "region_args=None\n",
        "fit_models = True\n",
        "fit_models_args = {\"nof_points\":30}\n",
        "\n",
        "romc.estimate_regions(eps_filter=eps_filter, eps_region=eps_region, eps_cutoff=eps_cutoff, \n",
        "                      use_surrogate=use_surrogate, region_args=region_args, \n",
        "                      fit_models=fit_models, fit_models_args=fit_models_args)"
      ],
      "execution_count": null,
      "outputs": [
        {
          "output_type": "stream",
          "text": [
            "Total solutions: 300, Accepted solutions after filtering: 170\n",
            "### Estimating regions ###\n",
            "\n",
            "Progress: |██████████████████████████████████████████████████| 100.0% Complete\n",
            "Time: 53.460 sec \n",
            "\n",
            "### Fitting local models ###\n",
            "\n",
            "Progress: |██████████████████████████████████████████████████| 100.0% Complete\n",
            "Time: 12.932 sec \n",
            "\n"
          ],
          "name": "stdout"
        }
      ]
    },
    {
      "cell_type": "code",
      "metadata": {
        "id": "qw0zrG3BaZE-",
        "colab_type": "code",
        "colab": {
          "base_uri": "https://localhost:8080/",
          "height": 295
        },
        "outputId": "bbec24e6-2cbf-4398-e19a-72e97f4e280e"
      },
      "source": [
        "romc.visualize_region(3)"
      ],
      "execution_count": null,
      "outputs": [
        {
          "output_type": "display_data",
          "data": {
            "image/png": "[encoded data removed]",
            "text/plain": [
              "<Figure size 432x288 with 1 Axes>"
            ]
          },
          "metadata": {
            "tags": [],
            "needs_background": "light"
          }
        }
      ]
    },
    {
      "cell_type": "code",
      "metadata": {
        "id": "VsjKwtjnaZFD",
        "colab_type": "code",
        "colab": {}
      },
      "source": [
        "# all in one step\n",
        "# romc.fit_posterior(n1=n1, use_bo=use_bo, eps=\"auto\", \n",
        "#                    optimizer_args=optimizer_args, quantile=.9, region_args=region_args, seed=seed)"
      ],
      "execution_count": null,
      "outputs": []
    },
    {
      "cell_type": "markdown",
      "metadata": {
        "id": "-S5gTqYZaZFH",
        "colab_type": "text"
      },
      "source": [
        "## Inference"
      ]
    },
    {
      "cell_type": "code",
      "metadata": {
        "id": "VJvhP1GmaZFI",
        "colab_type": "code",
        "colab": {
          "base_uri": "https://localhost:8080/",
          "height": 34
        },
        "outputId": "0176164a-42ed-4cfb-fec1-c61ff7b28f75"
      },
      "source": [
        "theta = np.array([[2.]])\n",
        "print(\"Posterior evaluation: f(theta=%.3f)=%.3f\" %(theta, romc.eval_posterior(theta=theta)))"
      ],
      "execution_count": null,
      "outputs": [
        {
          "output_type": "stream",
          "text": [
            "Posterior evaluation: f(theta=2.000)=0.000\n"
          ],
          "name": "stdout"
        }
      ]
    },
    {
      "cell_type": "code",
      "metadata": {
        "id": "aPG-jKJ8aZFM",
        "colab_type": "code",
        "colab": {
          "base_uri": "https://localhost:8080/",
          "height": 283
        },
        "outputId": "cde83d1c-2f14-49ea-ba25-2de69b4d68f2"
      },
      "source": [
        "romc.romc_posterior.eps_cutoff = 1.5\n",
        "romc.romc_posterior.partition = None\n",
        "\n",
        "# make plot\n",
        "plt.figure()\n",
        "plt.xlim(-3, 3)\n",
        "plt.xlabel(\"theta\")\n",
        "plt.ylabel(\"Density\")\n",
        "plt.ylim(0, 1)\n",
        "\n",
        "# plot prior\n",
        "theta = np.linspace(-3, 3, 60)\n",
        "y = prior.pdf(theta)\n",
        "plt.plot(theta, y, 'b-.', label='Prior')\n",
        "\n",
        "# plot likelihood\n",
        "y = likelihood.pdf(x=data, theta=theta)\n",
        "plt.plot(theta, y, 'r-.', label='Likelihood')\n",
        "\n",
        "# plot posterior\n",
        "y = np.squeeze(np.array([gt_posterior_pdf(th) for th in theta]))\n",
        "plt.plot(theta, y, 'g-.', label=\"True Posterior\")\n",
        "\n",
        "# plot ROMC posterior\n",
        "y = [romc.eval_posterior(np.array([[th]])) for th in theta]\n",
        "tmp = np.squeeze(np.array(y))\n",
        "plt.plot(theta, tmp, 'k-.o', label=\"ROMC Posterior\")\n",
        "\n",
        "plt.legend()\n",
        "plt.show(block=False)"
      ],
      "execution_count": null,
      "outputs": [
        {
          "output_type": "display_data",
          "data": {
            "image/png": "[encoded data removed]",
            "text/plain": [
              "<Figure size 432x288 with 1 Axes>"
            ]
          },
          "metadata": {
            "tags": [],
            "needs_background": "light"
          }
        }
      ]
    },
    {
      "cell_type": "code",
      "metadata": {
        "id": "PiGqQRVgaZFP",
        "colab_type": "code",
        "colab": {
          "base_uri": "https://localhost:8080/",
          "height": 104
        },
        "outputId": "150d7654-d04a-4fed-ee54-827df02364c1"
      },
      "source": [
        "n2 = 100\n",
        "tmp = romc.sample(n2=n2, seed=seed)"
      ],
      "execution_count": null,
      "outputs": [
        {
          "output_type": "stream",
          "text": [
            "### Getting Samples from the posterior ###\n",
            "\n",
            "Progress: |██████████████████████████████████████████████████| 100.0% Complete\n",
            "Time: 42.746 sec \n",
            "\n"
          ],
          "name": "stdout"
        }
      ]
    },
    {
      "cell_type": "code",
      "metadata": {
        "id": "icUm7TpjaZFT",
        "colab_type": "code",
        "colab": {
          "base_uri": "https://localhost:8080/",
          "height": 295
        },
        "outputId": "c770143e-61e2-4398-cd4d-7ac2d854b7e0"
      },
      "source": [
        "# As before but now it plots the samples as well\n",
        "romc.visualize_region(3)"
      ],
      "execution_count": null,
      "outputs": [
        {
          "output_type": "display_data",
          "data": {
            "image/png": "[encoded data removed]",
            "text/plain": [
              "<Figure size 432x288 with 1 Axes>"
            ]
          },
          "metadata": {
            "tags": [],
            "needs_background": "light"
          }
        }
      ]
    },
    {
      "cell_type": "code",
      "metadata": {
        "id": "vWzb0Q9VaZFW",
        "colab_type": "code",
        "colab": {
          "base_uri": "https://localhost:8080/",
          "height": 52
        },
        "outputId": "ae5309e9-75c0-4957-ca53-989620a9687f"
      },
      "source": [
        "# compute expectation\n",
        "print(\"Expected value   : %.3f\" % romc.compute_expectation(h = lambda x: np.squeeze(x)))\n",
        "print(\"Expected variance: %.3f\" % romc.compute_expectation(h =lambda x: np.squeeze(x)**2))"
      ],
      "execution_count": null,
      "outputs": [
        {
          "output_type": "stream",
          "text": [
            "Expected value   : -0.006\n",
            "Expected variance: 0.299\n"
          ],
          "name": "stdout"
        }
      ]
    },
    {
      "cell_type": "markdown",
      "metadata": {
        "id": "3DJUfr_saZFZ",
        "colab_type": "text"
      },
      "source": [
        "## Evaluation"
      ]
    },
    {
      "cell_type": "code",
      "metadata": {
        "id": "po-yjSdfaZFa",
        "colab_type": "code",
        "colab": {
          "base_uri": "https://localhost:8080/",
          "height": 34
        },
        "outputId": "7c7ab3fd-5667-431e-9e0f-fd0427323d5e"
      },
      "source": [
        "# compute divergence\n",
        "def wrapper(x):\n",
        "    \"\"\"gt_posterior_pdf with batching.\n",
        "    \"\"\"\n",
        "    res = []\n",
        "    for i in range(x.shape[0]):\n",
        "        tmp = x[i]\n",
        "        res.append(gt_posterior_pdf(float(tmp)))\n",
        "    return np.array(res)\n",
        "\n",
        "print(romc.compute_divergence(wrapper, distance=\"Jensen-Shannon\"))"
      ],
      "execution_count": null,
      "outputs": [
        {
          "output_type": "stream",
          "text": [
            "0.06936937467039805\n"
          ],
          "name": "stdout"
        }
      ]
    },
    {
      "cell_type": "code",
      "metadata": {
        "id": "IHNydAzFaZFd",
        "colab_type": "code",
        "colab": {
          "base_uri": "https://localhost:8080/",
          "height": 34
        },
        "outputId": "64cbde37-6f6e-4f25-998b-8338e6afa345"
      },
      "source": [
        "# compute ESS\n",
        "print(\"Nof Samples: %d, ESS: %.3f\" % (len(romc.result.weights), romc.compute_ess()))"
      ],
      "execution_count": null,
      "outputs": [
        {
          "output_type": "stream",
          "text": [
            "Nof Samples: 17000, ESS: 1675.229\n"
          ],
          "name": "stdout"
        }
      ]
    },
    {
      "cell_type": "code",
      "metadata": {
        "id": "zwpgKIoOaZFh",
        "colab_type": "code",
        "colab": {
          "base_uri": "https://localhost:8080/",
          "height": 289
        },
        "outputId": "3d6feab8-5477-4bdf-9de7-94f0686f2d7c"
      },
      "source": [
        "# some functionalities of ELFI results class\n",
        "romc.result.plot_marginals(weights=romc.result.weights, bins=30, density=True, range=(-3,3))\n",
        "plt.show()"
      ],
      "execution_count": null,
      "outputs": [
        {
          "output_type": "display_data",
          "data": {
            "image/png": "[encoded data removed]",
            "text/plain": [
              "<Figure size 1152x288 with 1 Axes>"
            ]
          },
          "metadata": {
            "tags": [],
            "needs_background": "light"
          }
        }
      ]
    },
    {
      "cell_type": "markdown",
      "metadata": {
        "id": "BiKuumnlaZFm",
        "colab_type": "text"
      },
      "source": [
        "## Ιdeas for the future \n",
        "\n",
        "### TODO\n",
        "\n",
        "#### ASAP:\n",
        "* Add GT information on the expected mean, std (approx computationaly)\n",
        "\n",
        "* ~add passing the gradients in closed form~\n",
        "\n",
        "* slightly change the compute regions part\n",
        "\n",
        "* ~make eps_cutoff, eps two different quantities; set eps=eps_cutoff as a default option~\n",
        "\n",
        "* ~based on the drawn samples, plot ESS vs eps~\n",
        "\n",
        "* plot_pairs with GT information, check how plot pairs is implemented (maybe weights are not passed well)\n",
        "\n",
        "* check if gaussian processes work in MAE2, lorentz\n",
        "\n",
        "* ~add some functionalities for checking the posterior's correctness, if the user can provide a Ground truth (as in the example). Such, ideas could be: Jensen-Shannon, KL-Divergence, Euclidean Distance~\n",
        "\n",
        "* ~pass arguments at theta_hist~\n",
        "\n",
        "* ~add function for compute_ESS~\n",
        "\n",
        "#### As last-minute ideas:\n",
        "\n",
        "* parallelize the procedure. Make it possible for the algorithm to use all the cores of the cpu, when solving the optimisation problems and when computing the bounding box areas.\n",
        "\n",
        "* Try to find a clever way of reusing/recycling previous computations when we change epsilon\n",
        "\n",
        "* Sample from a multivariate gaussian (with zero-covariances) instead of a Uniform (iff the region is defined as a single Bounding Box, this is easy)\n",
        "\n",
        "* Approximate the Bounding Box region with many Bounding boxes instead of only one.\n",
        "\n",
        "\n",
        "\n"
      ]
    },
    {
      "cell_type": "markdown",
      "metadata": {
        "pycharm": {
          "name": "#%%\n"
        },
        "id": "1NWGbsN8aZFn",
        "colab_type": "text"
      },
      "source": [
        "## TODO\n",
        "\n",
        "* add true variance/mean, in order to compare with the sample statistics\n",
        "* plot_pairs with GT information, check how plot pairs is implemented (maybe weights are not passed well)\n",
        "* add inspection plot; nof_samples vs epsilon\n",
        "* divide e_cutoff and epsilon, enable passing another epsilon < epsilon_cutoff on posterior, expectation etc \n",
        "* make a plot ESS vs epsilon after the samples have been drawn\n",
        "\n",
        "\n",
        "## TODO afterwards\n",
        "\n",
        "* parallelize the procedures\n",
        "* \n"
      ]
    },
    {
      "cell_type": "code",
      "metadata": {
        "id": "zmx4hL6haZFn",
        "colab_type": "code",
        "colab": {}
      },
      "source": [
        ""
      ],
      "execution_count": null,
      "outputs": []
    },
    {
      "cell_type": "code",
      "metadata": {
        "id": "g68IklXRaZFq",
        "colab_type": "code",
        "colab": {}
      },
      "source": [
        ""
      ],
      "execution_count": null,
      "outputs": []
    }
  ]
}