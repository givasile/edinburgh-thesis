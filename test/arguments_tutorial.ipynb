{
 "cells": [
  {
   "cell_type": "markdown",
   "metadata": {
    "pycharm": {
     "name": "#%% md\n"
    }
   },
   "source": [
    "Use cases for using *args at:\n",
    "* function definition, i.e. \n",
    "```python \n",
    "def fun(*args)\n",
    "```\n",
    "* argument passing (unpacking), i.e. \n",
    "```python \n",
    "fun(*iter)```\n",
    "\n",
    "Conclusions:\n",
    "* using *args* at function definition allows deciding the # of parameters at execution time\n",
    "* using * when passing a single iterable as argument, automatically unpacks its elements\n",
    "* using * when passing multiple iterable arguments (`fun(*iter1, *iter2)`), is a  convenience method for unpacking \n",
    "all elements and pass them as a single tuple "
   ]
  },
  {
   "cell_type": "code",
   "execution_count": 2,
   "metadata": {
    "pycharm": {
     "is_executing": false,
     "name": "#%%\n"
    }
   },
   "outputs": [
    {
     "name": "stdout",
     "output_type": "stream",
     "text": [
      "1\n",
      "2\n",
      "1\n",
      "2\n",
      "<class 'tuple'>\n",
      "[1, 2]\n",
      "[3, 4]\n",
      "<class 'tuple'>\n",
      "1\n",
      "2\n",
      "3\n",
      "4\n",
      "<class 'tuple'>\n",
      "1\n",
      "2\n",
      "3\n",
      "4\n"
     ]
    }
   ],
   "source": [
    "# function with specific # of arguments\n",
    "def fun1(a, b):\n",
    "    print(a)\n",
    "    print(b)\n",
    "\n",
    "# function with variable # of arguments\n",
    "def fun2(*args):\n",
    "    \"\"\"\n",
    "\n",
    "    :param args: tuple, (iterable)\n",
    "    :return: None\n",
    "    \"\"\"\n",
    "    print(type(args))\n",
    "    for i in args:\n",
    "        print(i)\n",
    "        \n",
    "lis1 = [1, 2]\n",
    "lis2 = [3, 4]\n",
    "\n",
    "# (i) function defined with named parameters\n",
    "# pass by reference, restriction must be defined statically\n",
    "# cannot work if # inputs is not known a priori\n",
    "fun1(a=1, b=2)\n",
    "\n",
    "# pass by unpacking the elements of the list, before calling the function\n",
    "# there is a restriction that # elements in list must match the # parameters in function definition\n",
    "fun1(*lis1)\n",
    "\n",
    "# pass as two tuples (each iterable becomes a tuple)\n",
    "# unrestricted, # elements can be set at execution time\n",
    "fun2(lis1, lis2)\n",
    "\n",
    "# pass after unpacking the elements into a single tuple\n",
    "# unrestricted, # elements can be set at execution time\n",
    "fun2(*lis1, *lis2)\n",
    "\n",
    "# same result can be achieved with\n",
    "fun2(*(lis1 + lis2))"
   ]
  },
  {
   "cell_type": "markdown",
   "metadata": {},
   "source": [
    "Use cases for using **kwargs at:\n",
    "* function definition, i.e. \n",
    "```python \n",
    "def fun(**kwargs)\n",
    "```\n",
    "* argument passing (unpacking), i.e. \n",
    "```python \n",
    "fun(**dict)```\n",
    "\n",
    "Conclusions:\n",
    "* using **kwargs at function definition allows deciding the # of keyword parameters at execution time \n",
    "\n",
    "* using ** when passing a single dict as argument is imperative when the function is defined\n",
    "with **kwargs \n",
    "* using ** when passing multiple iterable arguments (`fun(**dic1, **dic2)`), is a  convenience method for unpacking \n",
    "all elements and pass them as a single dict \n"
   ]
  },
  {
   "cell_type": "code",
   "execution_count": 7,
   "metadata": {
    "pycharm": {
     "is_executing": false,
     "name": "#%%\n"
    }
   },
   "outputs": [
    {
     "name": "stdout",
     "output_type": "stream",
     "text": [
      "1\n",
      "2\n",
      "1\n",
      "2\n",
      "<class 'dict'>\n",
      "a\n",
      "b\n",
      "<class 'dict'>\n",
      "a\n",
      "b\n",
      "<class 'dict'>\n",
      "a\n",
      "b\n",
      "c\n",
      "d\n"
     ]
    }
   ],
   "source": [
    "# function with specific # of arguments\n",
    "def fun1(a, b):\n",
    "    print(a)\n",
    "    print(b)\n",
    "\n",
    "# function with variable # of keyword arguments\n",
    "def fun2(**kwargs):\n",
    "    \"\"\"\n",
    "\n",
    "    :param kwargs: dict \n",
    "    :return: None\n",
    "    \"\"\"\n",
    "    print(type(kwargs))\n",
    "    for i in kwargs:\n",
    "        print(i)\n",
    "\n",
    "dic1 = {\"a\":1, \"b\":2}\n",
    "dic2 = {\"c\":3, \"d\":4}\n",
    "\n",
    "# static definition, cannot work for variable # of inputs\n",
    "fun1(a=1, b=2)\n",
    "\n",
    "# restriction is the same as above, just a convenience method\n",
    "fun1(**dic1)\n",
    "\n",
    "# manually define the parameters from the call side\n",
    "fun2(a=1, b=2)\n",
    "\n",
    "# unrestricted, # elements can be set at execution time\n",
    "fun2(**dic1)\n",
    "\n",
    "# convenience method for merging dicts\n",
    "fun2(**dic1, **dic2)\n"
   ]
  },
  {
   "cell_type": "markdown",
   "metadata": {},
   "source": [
    "Combining * args and **kwargs\n",
    "\n",
    "**kwargs goes always in the end"
   ]
  },
  {
   "cell_type": "code",
   "execution_count": 24,
   "metadata": {
    "pycharm": {
     "is_executing": false,
     "name": "#%%\n"
    }
   },
   "outputs": [
    {
     "name": "stdout",
     "output_type": "stream",
     "text": [
      "[1, 2]\n",
      "3\n",
      "(4, 5, 6, 'a')\n",
      "2\n",
      "{'d': 3}\n"
     ]
    }
   ],
   "source": [
    "def fun(a, b, *args, c, **kwargs):\n",
    "    print(a)\n",
    "    print(b)\n",
    "    print(args)\n",
    "    print(c)\n",
    "    print(kwargs)\n",
    "\n",
    "fun([1,2], *[3,4], *[5,6], *{\"a\":1}, **{\"c\":2, \"d\":3})\n"
   ]
  }
 ],
 "metadata": {
  "kernelspec": {
   "display_name": "Python 3",
   "language": "python",
   "name": "python3"
  },
  "language_info": {
   "codemirror_mode": {
    "name": "ipython",
    "version": 3
   },
   "file_extension": ".py",
   "mimetype": "text/x-python",
   "name": "python",
   "nbconvert_exporter": "python",
   "pygments_lexer": "ipython3",
   "version": "3.7.3"
  },
  "pycharm": {
   "stem_cell": {
    "cell_type": "raw",
    "metadata": {
     "collapsed": false
    },
    "source": []
   }
  }
 },
 "nbformat": 4,
 "nbformat_minor": 1
}
